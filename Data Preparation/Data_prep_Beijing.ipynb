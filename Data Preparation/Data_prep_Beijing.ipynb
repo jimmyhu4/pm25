{
 "cells": [
  {
   "cell_type": "markdown",
   "metadata": {},
   "source": [
    "## BeijingPM20100101_20151231.csv ##"
   ]
  },
  {
   "cell_type": "code",
   "execution_count": 1,
   "metadata": {},
   "outputs": [],
   "source": [
    "import os\n",
    "import pandas as pd\n",
    "import math\n",
    "import matplotlib.pyplot as plt\n",
    "%matplotlib inline"
   ]
  },
  {
   "cell_type": "code",
   "execution_count": 2,
   "metadata": {},
   "outputs": [],
   "source": [
    "def load_data_from_csv(data_path):\n",
    "    return pd.read_csv(data_path)"
   ]
  },
  {
   "cell_type": "code",
   "execution_count": 3,
   "metadata": {},
   "outputs": [],
   "source": [
    "MAIN_DIR_PATH = '../OriginalFiveCitiePMData'\n",
    "PREP_MAIN_DIR_PATH = '../Prep_FiveCitiePMData_MEAN'\n",
    "cities_data_path_list = os.listdir(MAIN_DIR_PATH)"
   ]
  },
  {
   "cell_type": "code",
   "execution_count": 4,
   "metadata": {},
   "outputs": [
    {
     "name": "stdout",
     "output_type": "stream",
     "text": [
      "BeijingPM20100101_20151231.csv\n",
      "ChengduPM20100101_20151231.csv\n",
      "GuangzhouPM20100101_20151231.csv\n",
      "ShanghaiPM20100101_20151231.csv\n",
      "ShenyangPM20100101_20151231.csv\n"
     ]
    }
   ],
   "source": [
    "print(*cities_data_path_list, sep='\\n')"
   ]
  },
  {
   "cell_type": "markdown",
   "metadata": {},
   "source": [
    "I will pick the first one for analysis"
   ]
  },
  {
   "cell_type": "code",
   "execution_count": 5,
   "metadata": {},
   "outputs": [
    {
     "name": "stdout",
     "output_type": "stream",
     "text": [
      "../OriginalFiveCitiePMData\\BeijingPM20100101_20151231.csv\n"
     ]
    }
   ],
   "source": [
    "sample_data_path = os.path.join(MAIN_DIR_PATH, cities_data_path_list[0])\n",
    "print(sample_data_path)\n",
    "data = load_data_from_csv(sample_data_path)"
   ]
  },
  {
   "cell_type": "markdown",
   "metadata": {},
   "source": [
    "### 1. Data Analysis"
   ]
  },
  {
   "cell_type": "markdown",
   "metadata": {},
   "source": [
    "#### 1.1 Look at distribution and find outliers"
   ]
  },
  {
   "cell_type": "markdown",
   "metadata": {},
   "source": [
    "So, I am going to start with analysis of each feature in order to understand whether we have an outliers here"
   ]
  },
  {
   "cell_type": "code",
   "execution_count": 6,
   "metadata": {},
   "outputs": [
    {
     "name": "stdout",
     "output_type": "stream",
     "text": [
      "1 No\n",
      "2 year\n",
      "3 month\n",
      "4 day\n",
      "5 hour\n",
      "6 season\n",
      "7 PM_Dongsi\n",
      "8 PM_Dongsihuan\n",
      "9 PM_Nongzhanguan\n",
      "10 PM_US Post\n",
      "11 DEWP\n",
      "12 HUMI\n",
      "13 PRES\n",
      "14 TEMP\n",
      "15 cbwd\n",
      "16 Iws\n",
      "17 precipitation\n",
      "18 Iprec\n"
     ]
    }
   ],
   "source": [
    "# Here are the features we have\n",
    "for idx, col in enumerate(data.columns):\n",
    "    print(idx + 1, col)"
   ]
  },
  {
   "cell_type": "markdown",
   "metadata": {},
   "source": [
    "**No**"
   ]
  },
  {
   "cell_type": "code",
   "execution_count": 7,
   "metadata": {},
   "outputs": [
    {
     "data": {
      "text/plain": [
       "count    52584.000000\n",
       "mean     26292.500000\n",
       "std      15179.837614\n",
       "min          1.000000\n",
       "25%      13146.750000\n",
       "50%      26292.500000\n",
       "75%      39438.250000\n",
       "max      52584.000000\n",
       "Name: No, dtype: float64"
      ]
     },
     "execution_count": 7,
     "metadata": {},
     "output_type": "execute_result"
    }
   ],
   "source": [
    "data['No'].describe()"
   ]
  },
  {
   "cell_type": "code",
   "execution_count": 8,
   "metadata": {},
   "outputs": [
    {
     "data": {
      "image/png": "[encoded data removed]",
      "text/plain": [
       "<Figure size 432x288 with 1 Axes>"
      ]
     },
     "metadata": {
      "needs_background": "light"
     },
     "output_type": "display_data"
    }
   ],
   "source": [
    "data['No'].hist()\n",
    "plt.show()"
   ]
  },
  {
   "cell_type": "markdown",
   "metadata": {},
   "source": [
    "Conclusion: OK"
   ]
  },
  {
   "cell_type": "markdown",
   "metadata": {},
   "source": [
    "**year**"
   ]
  },
  {
   "cell_type": "code",
   "execution_count": 9,
   "metadata": {},
   "outputs": [
    {
     "data": {
      "text/plain": [
       "count    52584.000000\n",
       "mean      2012.499772\n",
       "std          1.707485\n",
       "min       2010.000000\n",
       "25%       2011.000000\n",
       "50%       2012.000000\n",
       "75%       2014.000000\n",
       "max       2015.000000\n",
       "Name: year, dtype: float64"
      ]
     },
     "execution_count": 9,
     "metadata": {},
     "output_type": "execute_result"
    }
   ],
   "source": [
    "data['year'].describe()"
   ]
  },
  {
   "cell_type": "code",
   "execution_count": 10,
   "metadata": {},
   "outputs": [
    {
     "data": {
      "image/png": "[encoded data removed]",
      "text/plain": [
       "<Figure size 432x288 with 1 Axes>"
      ]
     },
     "metadata": {
      "needs_background": "light"
     },
     "output_type": "display_data"
    }
   ],
   "source": [
    "data['year'].hist()\n",
    "plt.show()"
   ]
  },
  {
   "cell_type": "markdown",
   "metadata": {},
   "source": [
    "Conclusion: OK"
   ]
  },
  {
   "cell_type": "markdown",
   "metadata": {},
   "source": [
    "**month**"
   ]
  },
  {
   "cell_type": "code",
   "execution_count": 11,
   "metadata": {},
   "outputs": [
    {
     "data": {
      "text/plain": [
       "count    52584.000000\n",
       "mean         6.523962\n",
       "std          3.448452\n",
       "min          1.000000\n",
       "25%          4.000000\n",
       "50%          7.000000\n",
       "75%         10.000000\n",
       "max         12.000000\n",
       "Name: month, dtype: float64"
      ]
     },
     "execution_count": 11,
     "metadata": {},
     "output_type": "execute_result"
    }
   ],
   "source": [
    "data['month'].describe()"
   ]
  },
  {
   "cell_type": "code",
   "execution_count": 12,
   "metadata": {},
   "outputs": [
    {
     "data": {
      "image/png": "[encoded data removed]",
      "text/plain": [
       "<Figure size 432x288 with 1 Axes>"
      ]
     },
     "metadata": {
      "needs_background": "light"
     },
     "output_type": "display_data"
    }
   ],
   "source": [
    "data['month'].hist()\n",
    "plt.show()"
   ]
  },
  {
   "cell_type": "markdown",
   "metadata": {},
   "source": [
    "Conclusion: OK"
   ]
  },
  {
   "cell_type": "markdown",
   "metadata": {},
   "source": [
    "**day**"
   ]
  },
  {
   "cell_type": "code",
   "execution_count": 13,
   "metadata": {},
   "outputs": [
    {
     "data": {
      "text/plain": [
       "count    52584.000000\n",
       "mean        15.726609\n",
       "std          8.798896\n",
       "min          1.000000\n",
       "25%          8.000000\n",
       "50%         16.000000\n",
       "75%         23.000000\n",
       "max         31.000000\n",
       "Name: day, dtype: float64"
      ]
     },
     "execution_count": 13,
     "metadata": {},
     "output_type": "execute_result"
    }
   ],
   "source": [
    "data['day'].describe()"
   ]
  },
  {
   "cell_type": "code",
   "execution_count": 14,
   "metadata": {},
   "outputs": [
    {
     "data": {
      "image/png": "[encoded data removed]",
      "text/plain": [
       "<Figure size 432x288 with 1 Axes>"
      ]
     },
     "metadata": {
      "needs_background": "light"
     },
     "output_type": "display_data"
    }
   ],
   "source": [
    "data['day'].hist()\n",
    "plt.show()"
   ]
  },
  {
   "cell_type": "markdown",
   "metadata": {},
   "source": [
    "Conclusion: OK"
   ]
  },
  {
   "cell_type": "markdown",
   "metadata": {},
   "source": [
    "**hour**"
   ]
  },
  {
   "cell_type": "code",
   "execution_count": 15,
   "metadata": {},
   "outputs": [
    {
     "data": {
      "text/plain": [
       "count    52584.000000\n",
       "mean        11.500000\n",
       "std          6.922252\n",
       "min          0.000000\n",
       "25%          5.750000\n",
       "50%         11.500000\n",
       "75%         17.250000\n",
       "max         23.000000\n",
       "Name: hour, dtype: float64"
      ]
     },
     "execution_count": 15,
     "metadata": {},
     "output_type": "execute_result"
    }
   ],
   "source": [
    "data['hour'].describe()"
   ]
  },
  {
   "cell_type": "code",
   "execution_count": 16,
   "metadata": {},
   "outputs": [
    {
     "data": {
      "image/png": "[encoded data removed]",
      "text/plain": [
       "<Figure size 432x288 with 1 Axes>"
      ]
     },
     "metadata": {
      "needs_background": "light"
     },
     "output_type": "display_data"
    }
   ],
   "source": [
    "data['hour'].hist()\n",
    "plt.show()"
   ]
  },
  {
   "cell_type": "markdown",
   "metadata": {},
   "source": [
    "Conclusion: OK"
   ]
  },
  {
   "cell_type": "markdown",
   "metadata": {},
   "source": [
    "**season**"
   ]
  },
  {
   "cell_type": "code",
   "execution_count": 17,
   "metadata": {},
   "outputs": [
    {
     "data": {
      "text/plain": [
       "count    52584.000000\n",
       "mean         2.491100\n",
       "std          1.116988\n",
       "min          1.000000\n",
       "25%          1.000000\n",
       "50%          2.000000\n",
       "75%          3.000000\n",
       "max          4.000000\n",
       "Name: season, dtype: float64"
      ]
     },
     "execution_count": 17,
     "metadata": {},
     "output_type": "execute_result"
    }
   ],
   "source": [
    "data['season'].describe()"
   ]
  },
  {
   "cell_type": "code",
   "execution_count": 18,
   "metadata": {},
   "outputs": [
    {
     "data": {
      "image/png": "[encoded data removed]",
      "text/plain": [
       "<Figure size 432x288 with 1 Axes>"
      ]
     },
     "metadata": {
      "needs_background": "light"
     },
     "output_type": "display_data"
    }
   ],
   "source": [
    "data['season'].hist()\n",
    "plt.show()"
   ]
  },
  {
   "cell_type": "markdown",
   "metadata": {},
   "source": [
    "Conclusion: OK"
   ]
  },
  {
   "cell_type": "markdown",
   "metadata": {},
   "source": [
    "**PM_Dongsi**"
   ]
  },
  {
   "cell_type": "code",
   "execution_count": 19,
   "metadata": {},
   "outputs": [
    {
     "data": {
      "text/plain": [
       "count    25052.000000\n",
       "mean        89.154439\n",
       "std         87.239267\n",
       "min          3.000000\n",
       "25%         24.000000\n",
       "50%         64.000000\n",
       "75%        124.000000\n",
       "max        737.000000\n",
       "Name: PM_Dongsi, dtype: float64"
      ]
     },
     "execution_count": 19,
     "metadata": {},
     "output_type": "execute_result"
    }
   ],
   "source": [
    "data['PM_Dongsi'].describe()"
   ]
  },
  {
   "cell_type": "code",
   "execution_count": 20,
   "metadata": {},
   "outputs": [
    {
     "data": {
      "image/png": "[encoded data removed]",
      "text/plain": [
       "<Figure size 432x288 with 1 Axes>"
      ]
     },
     "metadata": {
      "needs_background": "light"
     },
     "output_type": "display_data"
    }
   ],
   "source": [
    "data['PM_Dongsi'].hist()\n",
    "plt.show()"
   ]
  },
  {
   "cell_type": "markdown",
   "metadata": {},
   "source": [
    "Unfortunatelly, I could not find what was the greatest amount registered in the world in order to have understanding of outliers, so I will consider it as Ok\n",
    "Conclusion: OK"
   ]
  },
  {
   "cell_type": "markdown",
   "metadata": {},
   "source": [
    "**PM_Dongsihuan**"
   ]
  },
  {
   "cell_type": "code",
   "execution_count": 21,
   "metadata": {},
   "outputs": [
    {
     "data": {
      "text/plain": [
       "count    20508.000000\n",
       "mean        92.560806\n",
       "std         88.027434\n",
       "min          3.000000\n",
       "25%         28.000000\n",
       "50%         68.000000\n",
       "75%        127.000000\n",
       "max        672.000000\n",
       "Name: PM_Dongsihuan, dtype: float64"
      ]
     },
     "execution_count": 21,
     "metadata": {},
     "output_type": "execute_result"
    }
   ],
   "source": [
    "data['PM_Dongsihuan'].describe()"
   ]
  },
  {
   "cell_type": "code",
   "execution_count": 22,
   "metadata": {},
   "outputs": [
    {
     "data": {
      "image/png": "[encoded data removed]",
      "text/plain": [
       "<Figure size 432x288 with 1 Axes>"
      ]
     },
     "metadata": {
      "needs_background": "light"
     },
     "output_type": "display_data"
    }
   ],
   "source": [
    "data['PM_Dongsihuan'].hist()\n",
    "plt.show()"
   ]
  },
  {
   "cell_type": "markdown",
   "metadata": {},
   "source": [
    "Conclusion: OK"
   ]
  },
  {
   "cell_type": "markdown",
   "metadata": {},
   "source": [
    "**PM_Nongzhanguan**"
   ]
  },
  {
   "cell_type": "code",
   "execution_count": 23,
   "metadata": {},
   "outputs": [
    {
     "data": {
      "text/plain": [
       "count    24931.000000\n",
       "mean        88.643737\n",
       "std         88.041166\n",
       "min          3.000000\n",
       "25%         24.000000\n",
       "50%         62.000000\n",
       "75%        122.000000\n",
       "max        844.000000\n",
       "Name: PM_Nongzhanguan, dtype: float64"
      ]
     },
     "execution_count": 23,
     "metadata": {},
     "output_type": "execute_result"
    }
   ],
   "source": [
    "data['PM_Nongzhanguan'].describe()"
   ]
  },
  {
   "cell_type": "code",
   "execution_count": 24,
   "metadata": {},
   "outputs": [
    {
     "data": {
      "image/png": "[encoded data removed]",
      "text/plain": [
       "<Figure size 432x288 with 1 Axes>"
      ]
     },
     "metadata": {
      "needs_background": "light"
     },
     "output_type": "display_data"
    }
   ],
   "source": [
    "data['PM_Nongzhanguan'].hist()\n",
    "plt.show()"
   ]
  },
  {
   "cell_type": "markdown",
   "metadata": {},
   "source": [
    "Conclusion: OK"
   ]
  },
  {
   "cell_type": "markdown",
   "metadata": {},
   "source": [
    "**PM_US Post**"
   ]
  },
  {
   "cell_type": "code",
   "execution_count": 25,
   "metadata": {},
   "outputs": [
    {
     "data": {
      "text/plain": [
       "count    50387.000000\n",
       "mean        95.904241\n",
       "std         91.643772\n",
       "min          1.000000\n",
       "25%         27.000000\n",
       "50%         69.000000\n",
       "75%        132.000000\n",
       "max        994.000000\n",
       "Name: PM_US Post, dtype: float64"
      ]
     },
     "execution_count": 25,
     "metadata": {},
     "output_type": "execute_result"
    }
   ],
   "source": [
    "data['PM_US Post'].describe()"
   ]
  },
  {
   "cell_type": "code",
   "execution_count": 26,
   "metadata": {},
   "outputs": [
    {
     "data": {
      "image/png": "[encoded data removed]",
      "text/plain": [
       "<Figure size 432x288 with 1 Axes>"
      ]
     },
     "metadata": {
      "needs_background": "light"
     },
     "output_type": "display_data"
    }
   ],
   "source": [
    "data['PM_US Post'].hist()\n",
    "plt.show()"
   ]
  },
  {
   "cell_type": "markdown",
   "metadata": {},
   "source": [
    "Conclusion: OK"
   ]
  },
  {
   "cell_type": "markdown",
   "metadata": {},
   "source": [
    "**DEWP** Dew Point (Celsius Degree) "
   ]
  },
  {
   "cell_type": "code",
   "execution_count": 27,
   "metadata": {},
   "outputs": [
    {
     "data": {
      "text/plain": [
       "count    52579.000000\n",
       "mean         2.074554\n",
       "std         14.222059\n",
       "min        -40.000000\n",
       "25%        -10.000000\n",
       "50%          2.000000\n",
       "75%         15.000000\n",
       "max         28.000000\n",
       "Name: DEWP, dtype: float64"
      ]
     },
     "execution_count": 27,
     "metadata": {},
     "output_type": "execute_result"
    }
   ],
   "source": [
    "data['DEWP'].describe()"
   ]
  },
  {
   "cell_type": "code",
   "execution_count": 28,
   "metadata": {},
   "outputs": [
    {
     "data": {
      "image/png": "[encoded data removed]",
      "text/plain": [
       "<Figure size 432x288 with 1 Axes>"
      ]
     },
     "metadata": {
      "needs_background": "light"
     },
     "output_type": "display_data"
    }
   ],
   "source": [
    "data['DEWP'].hist()\n",
    "plt.show()"
   ]
  },
  {
   "cell_type": "markdown",
   "metadata": {},
   "source": [
    "Conclusion: OK"
   ]
  },
  {
   "cell_type": "markdown",
   "metadata": {},
   "source": [
    "**HUMI** Humidity (%) "
   ]
  },
  {
   "cell_type": "code",
   "execution_count": 29,
   "metadata": {},
   "outputs": [
    {
     "data": {
      "text/plain": [
       "count    52245.000000\n",
       "mean        54.602421\n",
       "std         25.991338\n",
       "min          2.000000\n",
       "25%         31.000000\n",
       "50%         55.000000\n",
       "75%         78.000000\n",
       "max        100.000000\n",
       "Name: HUMI, dtype: float64"
      ]
     },
     "execution_count": 29,
     "metadata": {},
     "output_type": "execute_result"
    }
   ],
   "source": [
    "data['HUMI'].describe()"
   ]
  },
  {
   "cell_type": "code",
   "execution_count": 30,
   "metadata": {},
   "outputs": [
    {
     "data": {
      "image/png": "[encoded data removed]",
      "text/plain": [
       "<Figure size 432x288 with 1 Axes>"
      ]
     },
     "metadata": {
      "needs_background": "light"
     },
     "output_type": "display_data"
    }
   ],
   "source": [
    "data['HUMI'].hist()\n",
    "plt.show()"
   ]
  },
  {
   "cell_type": "markdown",
   "metadata": {},
   "source": [
    "Conclusion: OK"
   ]
  },
  {
   "cell_type": "markdown",
   "metadata": {},
   "source": [
    "**PRES** Pressure (hPa) "
   ]
  },
  {
   "cell_type": "code",
   "execution_count": 31,
   "metadata": {},
   "outputs": [
    {
     "data": {
      "text/plain": [
       "count    52245.000000\n",
       "mean      1016.465442\n",
       "std         10.295070\n",
       "min        991.000000\n",
       "25%       1008.000000\n",
       "50%       1016.000000\n",
       "75%       1025.000000\n",
       "max       1046.000000\n",
       "Name: PRES, dtype: float64"
      ]
     },
     "execution_count": 31,
     "metadata": {},
     "output_type": "execute_result"
    }
   ],
   "source": [
    "data['PRES'].describe()"
   ]
  },
  {
   "cell_type": "code",
   "execution_count": 32,
   "metadata": {},
   "outputs": [
    {
     "data": {
      "image/png": "[encoded data removed]",
      "text/plain": [
       "<Figure size 432x288 with 1 Axes>"
      ]
     },
     "metadata": {
      "needs_background": "light"
     },
     "output_type": "display_data"
    }
   ],
   "source": [
    "data['PRES'].hist()\n",
    "plt.show()"
   ]
  },
  {
   "cell_type": "markdown",
   "metadata": {},
   "source": [
    "Conclusion: OK"
   ]
  },
  {
   "cell_type": "markdown",
   "metadata": {},
   "source": [
    "**TEMP** Temperature (Celsius Degree) "
   ]
  },
  {
   "cell_type": "code",
   "execution_count": 33,
   "metadata": {},
   "outputs": [
    {
     "data": {
      "text/plain": [
       "count    52579.000000\n",
       "mean        12.587040\n",
       "std         12.098527\n",
       "min        -19.000000\n",
       "25%          2.000000\n",
       "50%         14.000000\n",
       "75%         23.000000\n",
       "max         42.000000\n",
       "Name: TEMP, dtype: float64"
      ]
     },
     "execution_count": 33,
     "metadata": {},
     "output_type": "execute_result"
    }
   ],
   "source": [
    "data['TEMP'].describe()"
   ]
  },
  {
   "cell_type": "code",
   "execution_count": 34,
   "metadata": {},
   "outputs": [
    {
     "data": {
      "image/png": "[encoded data removed]",
      "text/plain": [
       "<Figure size 432x288 with 1 Axes>"
      ]
     },
     "metadata": {
      "needs_background": "light"
     },
     "output_type": "display_data"
    }
   ],
   "source": [
    "data['TEMP'].hist()\n",
    "plt.show()"
   ]
  },
  {
   "cell_type": "markdown",
   "metadata": {},
   "source": [
    "Conclusion: OK"
   ]
  },
  {
   "cell_type": "markdown",
   "metadata": {},
   "source": [
    "**cbwd** Combined wind direction "
   ]
  },
  {
   "cell_type": "code",
   "execution_count": 35,
   "metadata": {},
   "outputs": [
    {
     "data": {
      "text/plain": [
       "count     52579\n",
       "unique        4\n",
       "top          SE\n",
       "freq      18272\n",
       "Name: cbwd, dtype: object"
      ]
     },
     "execution_count": 35,
     "metadata": {},
     "output_type": "execute_result"
    }
   ],
   "source": [
    "data['cbwd'].describe()"
   ]
  },
  {
   "cell_type": "code",
   "execution_count": 36,
   "metadata": {},
   "outputs": [
    {
     "data": {
      "text/plain": [
       "SE    18272\n",
       "NW    16717\n",
       "cv    11412\n",
       "NE     6178\n",
       "Name: cbwd, dtype: int64"
      ]
     },
     "execution_count": 36,
     "metadata": {},
     "output_type": "execute_result"
    }
   ],
   "source": [
    "data['cbwd'].value_counts()"
   ]
  },
  {
   "cell_type": "markdown",
   "metadata": {},
   "source": [
    "Conclusion: OK"
   ]
  },
  {
   "cell_type": "markdown",
   "metadata": {},
   "source": [
    "**Iws**  Cumulated wind speed (m/s)"
   ]
  },
  {
   "cell_type": "code",
   "execution_count": 37,
   "metadata": {},
   "outputs": [
    {
     "data": {
      "text/plain": [
       "count    52579.000000\n",
       "mean        23.261829\n",
       "std         49.281706\n",
       "min          0.450000\n",
       "25%          1.790000\n",
       "50%          4.920000\n",
       "75%         21.020000\n",
       "max        585.600000\n",
       "Name: Iws, dtype: float64"
      ]
     },
     "execution_count": 37,
     "metadata": {},
     "output_type": "execute_result"
    }
   ],
   "source": [
    "data['Iws'].describe()"
   ]
  },
  {
   "cell_type": "markdown",
   "metadata": {},
   "source": [
    "Conclusion: OK"
   ]
  },
  {
   "cell_type": "markdown",
   "metadata": {},
   "source": [
    "**precipitation** hourly precipitation (mm) "
   ]
  },
  {
   "cell_type": "code",
   "execution_count": 38,
   "metadata": {},
   "outputs": [
    {
     "data": {
      "text/plain": [
       "count     52100.000000\n",
       "mean         19.258683\n",
       "std        4381.035532\n",
       "min           0.000000\n",
       "25%           0.000000\n",
       "50%           0.000000\n",
       "75%           0.000000\n",
       "max      999990.000000\n",
       "Name: precipitation, dtype: float64"
      ]
     },
     "execution_count": 38,
     "metadata": {},
     "output_type": "execute_result"
    }
   ],
   "source": [
    "data['precipitation'].describe()"
   ]
  },
  {
   "cell_type": "code",
   "execution_count": 39,
   "metadata": {},
   "outputs": [
    {
     "data": {
      "image/png": "[encoded data removed]",
      "text/plain": [
       "<Figure size 432x288 with 1 Axes>"
      ]
     },
     "metadata": {
      "needs_background": "light"
     },
     "output_type": "display_data"
    }
   ],
   "source": [
    "data['precipitation'].hist()\n",
    "plt.show()"
   ]
  },
  {
   "cell_type": "markdown",
   "metadata": {},
   "source": [
    "Conclusion: **OOOps an outlier here**"
   ]
  },
  {
   "cell_type": "markdown",
   "metadata": {},
   "source": [
    "**Iprec** Cumulated precipitation (mm)"
   ]
  },
  {
   "cell_type": "code",
   "execution_count": 40,
   "metadata": {},
   "outputs": [
    {
     "data": {
      "text/plain": [
       "count     52100.000000\n",
       "mean         19.519008\n",
       "std        4381.036040\n",
       "min           0.000000\n",
       "25%           0.000000\n",
       "50%           0.000000\n",
       "75%           0.000000\n",
       "max      999990.000000\n",
       "Name: Iprec, dtype: float64"
      ]
     },
     "execution_count": 40,
     "metadata": {},
     "output_type": "execute_result"
    }
   ],
   "source": [
    "data['Iprec'].describe()"
   ]
  },
  {
   "cell_type": "code",
   "execution_count": 41,
   "metadata": {},
   "outputs": [
    {
     "data": {
      "image/png": "[encoded data removed]",
      "text/plain": [
       "<Figure size 432x288 with 1 Axes>"
      ]
     },
     "metadata": {
      "needs_background": "light"
     },
     "output_type": "display_data"
    }
   ],
   "source": [
    "data['Iprec'].hist()\n",
    "plt.show()"
   ]
  },
  {
   "cell_type": "markdown",
   "metadata": {},
   "source": [
    "Conclusion: **OOOps an outlier here**"
   ]
  },
  {
   "cell_type": "markdown",
   "metadata": {},
   "source": [
    "**Section conclusion:** We have outliers in 2 columns **precipitation and Iprec**"
   ]
  },
  {
   "cell_type": "markdown",
   "metadata": {},
   "source": [
    "#### 1.2 Find NaN values columns and analyze them"
   ]
  },
  {
   "cell_type": "code",
   "execution_count": 42,
   "metadata": {},
   "outputs": [
    {
     "name": "stdout",
     "output_type": "stream",
     "text": [
      "PM_Dongsi\n",
      "PM_Dongsihuan\n",
      "PM_Nongzhanguan\n",
      "PM_US Post\n",
      "DEWP\n",
      "HUMI\n",
      "PRES\n",
      "TEMP\n",
      "cbwd\n",
      "Iws\n",
      "precipitation\n",
      "Iprec\n"
     ]
    }
   ],
   "source": [
    "for col in data.columns:\n",
    "    if data[col].isnull().any():\n",
    "        print(col)"
   ]
  },
  {
   "cell_type": "markdown",
   "metadata": {},
   "source": [
    "**PM_...**"
   ]
  },
  {
   "cell_type": "markdown",
   "metadata": {},
   "source": [
    "We have rows with NaN PM values.\n",
    "What I decided to do is remove all PM like columns and create one PM column. \n",
    "I will duplicate all features in a row for each PM like value in one  entry. Simply saying, I have 4 PM like values and that means I will have 4 seperate PM values in separate row. \n",
    "\n",
    "So, I will remove rows if ALL PM like values in this row are NaN values:\n",
    "\n",
    "(PM_, PM_, ..., PM_) == (NaN, NaN, ..., NaN) ---> remove row\n",
    "\n",
    "So let's see how many rows we have "
   ]
  },
  {
   "cell_type": "code",
   "execution_count": 43,
   "metadata": {},
   "outputs": [],
   "source": [
    "def get_pm_columns(data_frame):\n",
    "    cols = list(data_frame.columns)\n",
    "    pm_cols = []\n",
    "    for col in cols:\n",
    "        if col.startswith('PM'):\n",
    "            pm_cols.append(col)\n",
    "    return pm_cols "
   ]
  },
  {
   "cell_type": "code",
   "execution_count": 44,
   "metadata": {},
   "outputs": [
    {
     "data": {
      "text/plain": [
       "(52584, 18)"
      ]
     },
     "execution_count": 44,
     "metadata": {},
     "output_type": "execute_result"
    }
   ],
   "source": [
    "data.shape"
   ]
  },
  {
   "cell_type": "code",
   "execution_count": 45,
   "metadata": {},
   "outputs": [
    {
     "name": "stdout",
     "output_type": "stream",
     "text": [
      "5000  /  52584\n",
      "10000  /  52584\n",
      "15000  /  52584\n",
      "20000  /  52584\n",
      "25000  /  52584\n",
      "30000  /  52584\n",
      "35000  /  52584\n",
      "40000  /  52584\n",
      "45000  /  52584\n",
      "50000  /  52584\n"
     ]
    }
   ],
   "source": [
    "pm_cols = get_pm_columns(data)\n",
    "all_nan_pm_rows_indexes = []\n",
    "(n_rows, n_cols) = data.shape\n",
    "for idx, (index, row) in enumerate(data.iterrows()):\n",
    "    if row[pm_cols].isnull().all(): # .all()\n",
    "        all_nan_pm_rows_indexes.append(index)\n",
    "    \n",
    "    if (idx + 1) % 5000 == 0:\n",
    "        print(idx + 1, ' / ', n_rows)"
   ]
  },
  {
   "cell_type": "code",
   "execution_count": 46,
   "metadata": {},
   "outputs": [
    {
     "name": "stdout",
     "output_type": "stream",
     "text": [
      "Number of all PM NaN rows 1894\n"
     ]
    }
   ],
   "source": [
    "print('Number of all PM NaN rows', len(all_nan_pm_rows_indexes))"
   ]
  },
  {
   "cell_type": "markdown",
   "metadata": {},
   "source": [
    "**DEWP HUMI PRES TEMP** \n",
    "\n",
    "I have strong feeling that these features are related to each other. Let's build correlation matrix to see"
   ]
  },
  {
   "cell_type": "code",
   "execution_count": 53,
   "metadata": {},
   "outputs": [
    {
     "data": {
      "text/html": [
       "<style  type=\"text/css\" >\n",
       "    #T_0b30dd10_7622_11ea_a9c2_90b11c8a4599 th {\n",
       "          font-size: 7pt;\n",
       "    }    #T_0b30dd10_7622_11ea_a9c2_90b11c8a4599 td {\n",
       "          padding: 0em 0em;\n",
       "    }    #T_0b30dd10_7622_11ea_a9c2_90b11c8a4599 th:hover {\n",
       "          font-size: 12pt;\n",
       "    }    #T_0b30dd10_7622_11ea_a9c2_90b11c8a4599 tr:hover td:hover {\n",
       "          max-width: 200px;\n",
       "          font-size: 12pt;\n",
       "    }    #T_0b30dd10_7622_11ea_a9c2_90b11c8a4599row0_col0 {\n",
       "            max-width:  80px;\n",
       "            font-size:  10pt;\n",
       "        }    #T_0b30dd10_7622_11ea_a9c2_90b11c8a4599row0_col1 {\n",
       "            max-width:  80px;\n",
       "            font-size:  10pt;\n",
       "        }    #T_0b30dd10_7622_11ea_a9c2_90b11c8a4599row0_col2 {\n",
       "            max-width:  80px;\n",
       "            font-size:  10pt;\n",
       "        }    #T_0b30dd10_7622_11ea_a9c2_90b11c8a4599row0_col3 {\n",
       "            max-width:  80px;\n",
       "            font-size:  10pt;\n",
       "        }    #T_0b30dd10_7622_11ea_a9c2_90b11c8a4599row0_col4 {\n",
       "            max-width:  80px;\n",
       "            font-size:  10pt;\n",
       "        }    #T_0b30dd10_7622_11ea_a9c2_90b11c8a4599row0_col5 {\n",
       "            max-width:  80px;\n",
       "            font-size:  10pt;\n",
       "        }    #T_0b30dd10_7622_11ea_a9c2_90b11c8a4599row0_col6 {\n",
       "            max-width:  80px;\n",
       "            font-size:  10pt;\n",
       "        }    #T_0b30dd10_7622_11ea_a9c2_90b11c8a4599row0_col7 {\n",
       "            max-width:  80px;\n",
       "            font-size:  10pt;\n",
       "        }    #T_0b30dd10_7622_11ea_a9c2_90b11c8a4599row0_col8 {\n",
       "            max-width:  80px;\n",
       "            font-size:  10pt;\n",
       "        }    #T_0b30dd10_7622_11ea_a9c2_90b11c8a4599row0_col9 {\n",
       "            max-width:  80px;\n",
       "            font-size:  10pt;\n",
       "        }    #T_0b30dd10_7622_11ea_a9c2_90b11c8a4599row0_col10 {\n",
       "            max-width:  80px;\n",
       "            font-size:  10pt;\n",
       "        }    #T_0b30dd10_7622_11ea_a9c2_90b11c8a4599row0_col11 {\n",
       "            max-width:  80px;\n",
       "            font-size:  10pt;\n",
       "        }    #T_0b30dd10_7622_11ea_a9c2_90b11c8a4599row0_col12 {\n",
       "            max-width:  80px;\n",
       "            font-size:  10pt;\n",
       "        }    #T_0b30dd10_7622_11ea_a9c2_90b11c8a4599row0_col13 {\n",
       "            max-width:  80px;\n",
       "            font-size:  10pt;\n",
       "        }    #T_0b30dd10_7622_11ea_a9c2_90b11c8a4599row0_col14 {\n",
       "            max-width:  80px;\n",
       "            font-size:  10pt;\n",
       "        }    #T_0b30dd10_7622_11ea_a9c2_90b11c8a4599row0_col15 {\n",
       "            max-width:  80px;\n",
       "            font-size:  10pt;\n",
       "        }    #T_0b30dd10_7622_11ea_a9c2_90b11c8a4599row0_col16 {\n",
       "            max-width:  80px;\n",
       "            font-size:  10pt;\n",
       "        }    #T_0b30dd10_7622_11ea_a9c2_90b11c8a4599row1_col0 {\n",
       "            max-width:  80px;\n",
       "            font-size:  10pt;\n",
       "        }    #T_0b30dd10_7622_11ea_a9c2_90b11c8a4599row1_col1 {\n",
       "            max-width:  80px;\n",
       "            font-size:  10pt;\n",
       "        }    #T_0b30dd10_7622_11ea_a9c2_90b11c8a4599row1_col2 {\n",
       "            max-width:  80px;\n",
       "            font-size:  10pt;\n",
       "        }    #T_0b30dd10_7622_11ea_a9c2_90b11c8a4599row1_col3 {\n",
       "            max-width:  80px;\n",
       "            font-size:  10pt;\n",
       "        }    #T_0b30dd10_7622_11ea_a9c2_90b11c8a4599row1_col4 {\n",
       "            max-width:  80px;\n",
       "            font-size:  10pt;\n",
       "        }    #T_0b30dd10_7622_11ea_a9c2_90b11c8a4599row1_col5 {\n",
       "            max-width:  80px;\n",
       "            font-size:  10pt;\n",
       "        }    #T_0b30dd10_7622_11ea_a9c2_90b11c8a4599row1_col6 {\n",
       "            max-width:  80px;\n",
       "            font-size:  10pt;\n",
       "        }    #T_0b30dd10_7622_11ea_a9c2_90b11c8a4599row1_col7 {\n",
       "            max-width:  80px;\n",
       "            font-size:  10pt;\n",
       "        }    #T_0b30dd10_7622_11ea_a9c2_90b11c8a4599row1_col8 {\n",
       "            max-width:  80px;\n",
       "            font-size:  10pt;\n",
       "        }    #T_0b30dd10_7622_11ea_a9c2_90b11c8a4599row1_col9 {\n",
       "            max-width:  80px;\n",
       "            font-size:  10pt;\n",
       "        }    #T_0b30dd10_7622_11ea_a9c2_90b11c8a4599row1_col10 {\n",
       "            max-width:  80px;\n",
       "            font-size:  10pt;\n",
       "        }    #T_0b30dd10_7622_11ea_a9c2_90b11c8a4599row1_col11 {\n",
       "            max-width:  80px;\n",
       "            font-size:  10pt;\n",
       "        }    #T_0b30dd10_7622_11ea_a9c2_90b11c8a4599row1_col12 {\n",
       "            max-width:  80px;\n",
       "            font-size:  10pt;\n",
       "        }    #T_0b30dd10_7622_11ea_a9c2_90b11c8a4599row1_col13 {\n",
       "            max-width:  80px;\n",
       "            font-size:  10pt;\n",
       "        }    #T_0b30dd10_7622_11ea_a9c2_90b11c8a4599row1_col14 {\n",
       "            max-width:  80px;\n",
       "            font-size:  10pt;\n",
       "        }    #T_0b30dd10_7622_11ea_a9c2_90b11c8a4599row1_col15 {\n",
       "            max-width:  80px;\n",
       "            font-size:  10pt;\n",
       "        }    #T_0b30dd10_7622_11ea_a9c2_90b11c8a4599row1_col16 {\n",
       "            max-width:  80px;\n",
       "            font-size:  10pt;\n",
       "        }    #T_0b30dd10_7622_11ea_a9c2_90b11c8a4599row2_col0 {\n",
       "            max-width:  80px;\n",
       "            font-size:  10pt;\n",
       "        }    #T_0b30dd10_7622_11ea_a9c2_90b11c8a4599row2_col1 {\n",
       "            max-width:  80px;\n",
       "            font-size:  10pt;\n",
       "        }    #T_0b30dd10_7622_11ea_a9c2_90b11c8a4599row2_col2 {\n",
       "            max-width:  80px;\n",
       "            font-size:  10pt;\n",
       "        }    #T_0b30dd10_7622_11ea_a9c2_90b11c8a4599row2_col3 {\n",
       "            max-width:  80px;\n",
       "            font-size:  10pt;\n",
       "        }    #T_0b30dd10_7622_11ea_a9c2_90b11c8a4599row2_col4 {\n",
       "            max-width:  80px;\n",
       "            font-size:  10pt;\n",
       "        }    #T_0b30dd10_7622_11ea_a9c2_90b11c8a4599row2_col5 {\n",
       "            max-width:  80px;\n",
       "            font-size:  10pt;\n",
       "        }    #T_0b30dd10_7622_11ea_a9c2_90b11c8a4599row2_col6 {\n",
       "            max-width:  80px;\n",
       "            font-size:  10pt;\n",
       "        }    #T_0b30dd10_7622_11ea_a9c2_90b11c8a4599row2_col7 {\n",
       "            max-width:  80px;\n",
       "            font-size:  10pt;\n",
       "        }    #T_0b30dd10_7622_11ea_a9c2_90b11c8a4599row2_col8 {\n",
       "            max-width:  80px;\n",
       "            font-size:  10pt;\n",
       "        }    #T_0b30dd10_7622_11ea_a9c2_90b11c8a4599row2_col9 {\n",
       "            max-width:  80px;\n",
       "            font-size:  10pt;\n",
       "        }    #T_0b30dd10_7622_11ea_a9c2_90b11c8a4599row2_col10 {\n",
       "            max-width:  80px;\n",
       "            font-size:  10pt;\n",
       "        }    #T_0b30dd10_7622_11ea_a9c2_90b11c8a4599row2_col11 {\n",
       "            max-width:  80px;\n",
       "            font-size:  10pt;\n",
       "        }    #T_0b30dd10_7622_11ea_a9c2_90b11c8a4599row2_col12 {\n",
       "            max-width:  80px;\n",
       "            font-size:  10pt;\n",
       "        }    #T_0b30dd10_7622_11ea_a9c2_90b11c8a4599row2_col13 {\n",
       "            max-width:  80px;\n",
       "            font-size:  10pt;\n",
       "        }    #T_0b30dd10_7622_11ea_a9c2_90b11c8a4599row2_col14 {\n",
       "            max-width:  80px;\n",
       "            font-size:  10pt;\n",
       "        }    #T_0b30dd10_7622_11ea_a9c2_90b11c8a4599row2_col15 {\n",
       "            max-width:  80px;\n",
       "            font-size:  10pt;\n",
       "        }    #T_0b30dd10_7622_11ea_a9c2_90b11c8a4599row2_col16 {\n",
       "            max-width:  80px;\n",
       "            font-size:  10pt;\n",
       "        }    #T_0b30dd10_7622_11ea_a9c2_90b11c8a4599row3_col0 {\n",
       "            max-width:  80px;\n",
       "            font-size:  10pt;\n",
       "        }    #T_0b30dd10_7622_11ea_a9c2_90b11c8a4599row3_col1 {\n",
       "            max-width:  80px;\n",
       "            font-size:  10pt;\n",
       "        }    #T_0b30dd10_7622_11ea_a9c2_90b11c8a4599row3_col2 {\n",
       "            max-width:  80px;\n",
       "            font-size:  10pt;\n",
       "        }    #T_0b30dd10_7622_11ea_a9c2_90b11c8a4599row3_col3 {\n",
       "            max-width:  80px;\n",
       "            font-size:  10pt;\n",
       "        }    #T_0b30dd10_7622_11ea_a9c2_90b11c8a4599row3_col4 {\n",
       "            max-width:  80px;\n",
       "            font-size:  10pt;\n",
       "        }    #T_0b30dd10_7622_11ea_a9c2_90b11c8a4599row3_col5 {\n",
       "            max-width:  80px;\n",
       "            font-size:  10pt;\n",
       "        }    #T_0b30dd10_7622_11ea_a9c2_90b11c8a4599row3_col6 {\n",
       "            max-width:  80px;\n",
       "            font-size:  10pt;\n",
       "        }    #T_0b30dd10_7622_11ea_a9c2_90b11c8a4599row3_col7 {\n",
       "            max-width:  80px;\n",
       "            font-size:  10pt;\n",
       "        }    #T_0b30dd10_7622_11ea_a9c2_90b11c8a4599row3_col8 {\n",
       "            max-width:  80px;\n",
       "            font-size:  10pt;\n",
       "        }    #T_0b30dd10_7622_11ea_a9c2_90b11c8a4599row3_col9 {\n",
       "            max-width:  80px;\n",
       "            font-size:  10pt;\n",
       "        }    #T_0b30dd10_7622_11ea_a9c2_90b11c8a4599row3_col10 {\n",
       "            max-width:  80px;\n",
       "            font-size:  10pt;\n",
       "        }    #T_0b30dd10_7622_11ea_a9c2_90b11c8a4599row3_col11 {\n",
       "            max-width:  80px;\n",
       "            font-size:  10pt;\n",
       "        }    #T_0b30dd10_7622_11ea_a9c2_90b11c8a4599row3_col12 {\n",
       "            max-width:  80px;\n",
       "            font-size:  10pt;\n",
       "        }    #T_0b30dd10_7622_11ea_a9c2_90b11c8a4599row3_col13 {\n",
       "            max-width:  80px;\n",
       "            font-size:  10pt;\n",
       "        }    #T_0b30dd10_7622_11ea_a9c2_90b11c8a4599row3_col14 {\n",
       "            max-width:  80px;\n",
       "            font-size:  10pt;\n",
       "        }    #T_0b30dd10_7622_11ea_a9c2_90b11c8a4599row3_col15 {\n",
       "            max-width:  80px;\n",
       "            font-size:  10pt;\n",
       "        }    #T_0b30dd10_7622_11ea_a9c2_90b11c8a4599row3_col16 {\n",
       "            max-width:  80px;\n",
       "            font-size:  10pt;\n",
       "        }    #T_0b30dd10_7622_11ea_a9c2_90b11c8a4599row4_col0 {\n",
       "            max-width:  80px;\n",
       "            font-size:  10pt;\n",
       "        }    #T_0b30dd10_7622_11ea_a9c2_90b11c8a4599row4_col1 {\n",
       "            max-width:  80px;\n",
       "            font-size:  10pt;\n",
       "        }    #T_0b30dd10_7622_11ea_a9c2_90b11c8a4599row4_col2 {\n",
       "            max-width:  80px;\n",
       "            font-size:  10pt;\n",
       "        }    #T_0b30dd10_7622_11ea_a9c2_90b11c8a4599row4_col3 {\n",
       "            max-width:  80px;\n",
       "            font-size:  10pt;\n",
       "        }    #T_0b30dd10_7622_11ea_a9c2_90b11c8a4599row4_col4 {\n",
       "            max-width:  80px;\n",
       "            font-size:  10pt;\n",
       "        }    #T_0b30dd10_7622_11ea_a9c2_90b11c8a4599row4_col5 {\n",
       "            max-width:  80px;\n",
       "            font-size:  10pt;\n",
       "        }    #T_0b30dd10_7622_11ea_a9c2_90b11c8a4599row4_col6 {\n",
       "            max-width:  80px;\n",
       "            font-size:  10pt;\n",
       "        }    #T_0b30dd10_7622_11ea_a9c2_90b11c8a4599row4_col7 {\n",
       "            max-width:  80px;\n",
       "            font-size:  10pt;\n",
       "        }    #T_0b30dd10_7622_11ea_a9c2_90b11c8a4599row4_col8 {\n",
       "            max-width:  80px;\n",
       "            font-size:  10pt;\n",
       "        }    #T_0b30dd10_7622_11ea_a9c2_90b11c8a4599row4_col9 {\n",
       "            max-width:  80px;\n",
       "            font-size:  10pt;\n",
       "        }    #T_0b30dd10_7622_11ea_a9c2_90b11c8a4599row4_col10 {\n",
       "            max-width:  80px;\n",
       "            font-size:  10pt;\n",
       "        }    #T_0b30dd10_7622_11ea_a9c2_90b11c8a4599row4_col11 {\n",
       "            max-width:  80px;\n",
       "            font-size:  10pt;\n",
       "        }    #T_0b30dd10_7622_11ea_a9c2_90b11c8a4599row4_col12 {\n",
       "            max-width:  80px;\n",
       "            font-size:  10pt;\n",
       "        }    #T_0b30dd10_7622_11ea_a9c2_90b11c8a4599row4_col13 {\n",
       "            max-width:  80px;\n",
       "            font-size:  10pt;\n",
       "        }    #T_0b30dd10_7622_11ea_a9c2_90b11c8a4599row4_col14 {\n",
       "            max-width:  80px;\n",
       "            font-size:  10pt;\n",
       "        }    #T_0b30dd10_7622_11ea_a9c2_90b11c8a4599row4_col15 {\n",
       "            max-width:  80px;\n",
       "            font-size:  10pt;\n",
       "        }    #T_0b30dd10_7622_11ea_a9c2_90b11c8a4599row4_col16 {\n",
       "            max-width:  80px;\n",
       "            font-size:  10pt;\n",
       "        }    #T_0b30dd10_7622_11ea_a9c2_90b11c8a4599row5_col0 {\n",
       "            max-width:  80px;\n",
       "            font-size:  10pt;\n",
       "        }    #T_0b30dd10_7622_11ea_a9c2_90b11c8a4599row5_col1 {\n",
       "            max-width:  80px;\n",
       "            font-size:  10pt;\n",
       "        }    #T_0b30dd10_7622_11ea_a9c2_90b11c8a4599row5_col2 {\n",
       "            max-width:  80px;\n",
       "            font-size:  10pt;\n",
       "        }    #T_0b30dd10_7622_11ea_a9c2_90b11c8a4599row5_col3 {\n",
       "            max-width:  80px;\n",
       "            font-size:  10pt;\n",
       "        }    #T_0b30dd10_7622_11ea_a9c2_90b11c8a4599row5_col4 {\n",
       "            max-width:  80px;\n",
       "            font-size:  10pt;\n",
       "        }    #T_0b30dd10_7622_11ea_a9c2_90b11c8a4599row5_col5 {\n",
       "            max-width:  80px;\n",
       "            font-size:  10pt;\n",
       "        }    #T_0b30dd10_7622_11ea_a9c2_90b11c8a4599row5_col6 {\n",
       "            max-width:  80px;\n",
       "            font-size:  10pt;\n",
       "        }    #T_0b30dd10_7622_11ea_a9c2_90b11c8a4599row5_col7 {\n",
       "            max-width:  80px;\n",
       "            font-size:  10pt;\n",
       "        }    #T_0b30dd10_7622_11ea_a9c2_90b11c8a4599row5_col8 {\n",
       "            max-width:  80px;\n",
       "            font-size:  10pt;\n",
       "        }    #T_0b30dd10_7622_11ea_a9c2_90b11c8a4599row5_col9 {\n",
       "            max-width:  80px;\n",
       "            font-size:  10pt;\n",
       "        }    #T_0b30dd10_7622_11ea_a9c2_90b11c8a4599row5_col10 {\n",
       "            max-width:  80px;\n",
       "            font-size:  10pt;\n",
       "        }    #T_0b30dd10_7622_11ea_a9c2_90b11c8a4599row5_col11 {\n",
       "            max-width:  80px;\n",
       "            font-size:  10pt;\n",
       "        }    #T_0b30dd10_7622_11ea_a9c2_90b11c8a4599row5_col12 {\n",
       "            max-width:  80px;\n",
       "            font-size:  10pt;\n",
       "        }    #T_0b30dd10_7622_11ea_a9c2_90b11c8a4599row5_col13 {\n",
       "            max-width:  80px;\n",
       "            font-size:  10pt;\n",
       "        }    #T_0b30dd10_7622_11ea_a9c2_90b11c8a4599row5_col14 {\n",
       "            max-width:  80px;\n",
       "            font-size:  10pt;\n",
       "        }    #T_0b30dd10_7622_11ea_a9c2_90b11c8a4599row5_col15 {\n",
       "            max-width:  80px;\n",
       "            font-size:  10pt;\n",
       "        }    #T_0b30dd10_7622_11ea_a9c2_90b11c8a4599row5_col16 {\n",
       "            max-width:  80px;\n",
       "            font-size:  10pt;\n",
       "        }    #T_0b30dd10_7622_11ea_a9c2_90b11c8a4599row6_col0 {\n",
       "            max-width:  80px;\n",
       "            font-size:  10pt;\n",
       "        }    #T_0b30dd10_7622_11ea_a9c2_90b11c8a4599row6_col1 {\n",
       "            max-width:  80px;\n",
       "            font-size:  10pt;\n",
       "        }    #T_0b30dd10_7622_11ea_a9c2_90b11c8a4599row6_col2 {\n",
       "            max-width:  80px;\n",
       "            font-size:  10pt;\n",
       "        }    #T_0b30dd10_7622_11ea_a9c2_90b11c8a4599row6_col3 {\n",
       "            max-width:  80px;\n",
       "            font-size:  10pt;\n",
       "        }    #T_0b30dd10_7622_11ea_a9c2_90b11c8a4599row6_col4 {\n",
       "            max-width:  80px;\n",
       "            font-size:  10pt;\n",
       "        }    #T_0b30dd10_7622_11ea_a9c2_90b11c8a4599row6_col5 {\n",
       "            max-width:  80px;\n",
       "            font-size:  10pt;\n",
       "        }    #T_0b30dd10_7622_11ea_a9c2_90b11c8a4599row6_col6 {\n",
       "            max-width:  80px;\n",
       "            font-size:  10pt;\n",
       "        }    #T_0b30dd10_7622_11ea_a9c2_90b11c8a4599row6_col7 {\n",
       "            max-width:  80px;\n",
       "            font-size:  10pt;\n",
       "        }    #T_0b30dd10_7622_11ea_a9c2_90b11c8a4599row6_col8 {\n",
       "            max-width:  80px;\n",
       "            font-size:  10pt;\n",
       "        }    #T_0b30dd10_7622_11ea_a9c2_90b11c8a4599row6_col9 {\n",
       "            max-width:  80px;\n",
       "            font-size:  10pt;\n",
       "        }    #T_0b30dd10_7622_11ea_a9c2_90b11c8a4599row6_col10 {\n",
       "            max-width:  80px;\n",
       "            font-size:  10pt;\n",
       "        }    #T_0b30dd10_7622_11ea_a9c2_90b11c8a4599row6_col11 {\n",
       "            max-width:  80px;\n",
       "            font-size:  10pt;\n",
       "        }    #T_0b30dd10_7622_11ea_a9c2_90b11c8a4599row6_col12 {\n",
       "            max-width:  80px;\n",
       "            font-size:  10pt;\n",
       "        }    #T_0b30dd10_7622_11ea_a9c2_90b11c8a4599row6_col13 {\n",
       "            max-width:  80px;\n",
       "            font-size:  10pt;\n",
       "        }    #T_0b30dd10_7622_11ea_a9c2_90b11c8a4599row6_col14 {\n",
       "            max-width:  80px;\n",
       "            font-size:  10pt;\n",
       "        }    #T_0b30dd10_7622_11ea_a9c2_90b11c8a4599row6_col15 {\n",
       "            max-width:  80px;\n",
       "            font-size:  10pt;\n",
       "        }    #T_0b30dd10_7622_11ea_a9c2_90b11c8a4599row6_col16 {\n",
       "            max-width:  80px;\n",
       "            font-size:  10pt;\n",
       "        }    #T_0b30dd10_7622_11ea_a9c2_90b11c8a4599row7_col0 {\n",
       "            max-width:  80px;\n",
       "            font-size:  10pt;\n",
       "        }    #T_0b30dd10_7622_11ea_a9c2_90b11c8a4599row7_col1 {\n",
       "            max-width:  80px;\n",
       "            font-size:  10pt;\n",
       "        }    #T_0b30dd10_7622_11ea_a9c2_90b11c8a4599row7_col2 {\n",
       "            max-width:  80px;\n",
       "            font-size:  10pt;\n",
       "        }    #T_0b30dd10_7622_11ea_a9c2_90b11c8a4599row7_col3 {\n",
       "            max-width:  80px;\n",
       "            font-size:  10pt;\n",
       "        }    #T_0b30dd10_7622_11ea_a9c2_90b11c8a4599row7_col4 {\n",
       "            max-width:  80px;\n",
       "            font-size:  10pt;\n",
       "        }    #T_0b30dd10_7622_11ea_a9c2_90b11c8a4599row7_col5 {\n",
       "            max-width:  80px;\n",
       "            font-size:  10pt;\n",
       "        }    #T_0b30dd10_7622_11ea_a9c2_90b11c8a4599row7_col6 {\n",
       "            max-width:  80px;\n",
       "            font-size:  10pt;\n",
       "        }    #T_0b30dd10_7622_11ea_a9c2_90b11c8a4599row7_col7 {\n",
       "            max-width:  80px;\n",
       "            font-size:  10pt;\n",
       "        }    #T_0b30dd10_7622_11ea_a9c2_90b11c8a4599row7_col8 {\n",
       "            max-width:  80px;\n",
       "            font-size:  10pt;\n",
       "        }    #T_0b30dd10_7622_11ea_a9c2_90b11c8a4599row7_col9 {\n",
       "            max-width:  80px;\n",
       "            font-size:  10pt;\n",
       "        }    #T_0b30dd10_7622_11ea_a9c2_90b11c8a4599row7_col10 {\n",
       "            max-width:  80px;\n",
       "            font-size:  10pt;\n",
       "        }    #T_0b30dd10_7622_11ea_a9c2_90b11c8a4599row7_col11 {\n",
       "            max-width:  80px;\n",
       "            font-size:  10pt;\n",
       "        }    #T_0b30dd10_7622_11ea_a9c2_90b11c8a4599row7_col12 {\n",
       "            max-width:  80px;\n",
       "            font-size:  10pt;\n",
       "        }    #T_0b30dd10_7622_11ea_a9c2_90b11c8a4599row7_col13 {\n",
       "            max-width:  80px;\n",
       "            font-size:  10pt;\n",
       "        }    #T_0b30dd10_7622_11ea_a9c2_90b11c8a4599row7_col14 {\n",
       "            max-width:  80px;\n",
       "            font-size:  10pt;\n",
       "        }    #T_0b30dd10_7622_11ea_a9c2_90b11c8a4599row7_col15 {\n",
       "            max-width:  80px;\n",
       "            font-size:  10pt;\n",
       "        }    #T_0b30dd10_7622_11ea_a9c2_90b11c8a4599row7_col16 {\n",
       "            max-width:  80px;\n",
       "            font-size:  10pt;\n",
       "        }    #T_0b30dd10_7622_11ea_a9c2_90b11c8a4599row8_col0 {\n",
       "            max-width:  80px;\n",
       "            font-size:  10pt;\n",
       "        }    #T_0b30dd10_7622_11ea_a9c2_90b11c8a4599row8_col1 {\n",
       "            max-width:  80px;\n",
       "            font-size:  10pt;\n",
       "        }    #T_0b30dd10_7622_11ea_a9c2_90b11c8a4599row8_col2 {\n",
       "            max-width:  80px;\n",
       "            font-size:  10pt;\n",
       "        }    #T_0b30dd10_7622_11ea_a9c2_90b11c8a4599row8_col3 {\n",
       "            max-width:  80px;\n",
       "            font-size:  10pt;\n",
       "        }    #T_0b30dd10_7622_11ea_a9c2_90b11c8a4599row8_col4 {\n",
       "            max-width:  80px;\n",
       "            font-size:  10pt;\n",
       "        }    #T_0b30dd10_7622_11ea_a9c2_90b11c8a4599row8_col5 {\n",
       "            max-width:  80px;\n",
       "            font-size:  10pt;\n",
       "        }    #T_0b30dd10_7622_11ea_a9c2_90b11c8a4599row8_col6 {\n",
       "            max-width:  80px;\n",
       "            font-size:  10pt;\n",
       "        }    #T_0b30dd10_7622_11ea_a9c2_90b11c8a4599row8_col7 {\n",
       "            max-width:  80px;\n",
       "            font-size:  10pt;\n",
       "        }    #T_0b30dd10_7622_11ea_a9c2_90b11c8a4599row8_col8 {\n",
       "            max-width:  80px;\n",
       "            font-size:  10pt;\n",
       "        }    #T_0b30dd10_7622_11ea_a9c2_90b11c8a4599row8_col9 {\n",
       "            max-width:  80px;\n",
       "            font-size:  10pt;\n",
       "        }    #T_0b30dd10_7622_11ea_a9c2_90b11c8a4599row8_col10 {\n",
       "            max-width:  80px;\n",
       "            font-size:  10pt;\n",
       "        }    #T_0b30dd10_7622_11ea_a9c2_90b11c8a4599row8_col11 {\n",
       "            max-width:  80px;\n",
       "            font-size:  10pt;\n",
       "        }    #T_0b30dd10_7622_11ea_a9c2_90b11c8a4599row8_col12 {\n",
       "            max-width:  80px;\n",
       "            font-size:  10pt;\n",
       "        }    #T_0b30dd10_7622_11ea_a9c2_90b11c8a4599row8_col13 {\n",
       "            max-width:  80px;\n",
       "            font-size:  10pt;\n",
       "        }    #T_0b30dd10_7622_11ea_a9c2_90b11c8a4599row8_col14 {\n",
       "            max-width:  80px;\n",
       "            font-size:  10pt;\n",
       "        }    #T_0b30dd10_7622_11ea_a9c2_90b11c8a4599row8_col15 {\n",
       "            max-width:  80px;\n",
       "            font-size:  10pt;\n",
       "        }    #T_0b30dd10_7622_11ea_a9c2_90b11c8a4599row8_col16 {\n",
       "            max-width:  80px;\n",
       "            font-size:  10pt;\n",
       "        }    #T_0b30dd10_7622_11ea_a9c2_90b11c8a4599row9_col0 {\n",
       "            max-width:  80px;\n",
       "            font-size:  10pt;\n",
       "        }    #T_0b30dd10_7622_11ea_a9c2_90b11c8a4599row9_col1 {\n",
       "            max-width:  80px;\n",
       "            font-size:  10pt;\n",
       "        }    #T_0b30dd10_7622_11ea_a9c2_90b11c8a4599row9_col2 {\n",
       "            max-width:  80px;\n",
       "            font-size:  10pt;\n",
       "        }    #T_0b30dd10_7622_11ea_a9c2_90b11c8a4599row9_col3 {\n",
       "            max-width:  80px;\n",
       "            font-size:  10pt;\n",
       "        }    #T_0b30dd10_7622_11ea_a9c2_90b11c8a4599row9_col4 {\n",
       "            max-width:  80px;\n",
       "            font-size:  10pt;\n",
       "        }    #T_0b30dd10_7622_11ea_a9c2_90b11c8a4599row9_col5 {\n",
       "            max-width:  80px;\n",
       "            font-size:  10pt;\n",
       "        }    #T_0b30dd10_7622_11ea_a9c2_90b11c8a4599row9_col6 {\n",
       "            max-width:  80px;\n",
       "            font-size:  10pt;\n",
       "        }    #T_0b30dd10_7622_11ea_a9c2_90b11c8a4599row9_col7 {\n",
       "            max-width:  80px;\n",
       "            font-size:  10pt;\n",
       "        }    #T_0b30dd10_7622_11ea_a9c2_90b11c8a4599row9_col8 {\n",
       "            max-width:  80px;\n",
       "            font-size:  10pt;\n",
       "        }    #T_0b30dd10_7622_11ea_a9c2_90b11c8a4599row9_col9 {\n",
       "            max-width:  80px;\n",
       "            font-size:  10pt;\n",
       "        }    #T_0b30dd10_7622_11ea_a9c2_90b11c8a4599row9_col10 {\n",
       "            max-width:  80px;\n",
       "            font-size:  10pt;\n",
       "        }    #T_0b30dd10_7622_11ea_a9c2_90b11c8a4599row9_col11 {\n",
       "            max-width:  80px;\n",
       "            font-size:  10pt;\n",
       "        }    #T_0b30dd10_7622_11ea_a9c2_90b11c8a4599row9_col12 {\n",
       "            max-width:  80px;\n",
       "            font-size:  10pt;\n",
       "        }    #T_0b30dd10_7622_11ea_a9c2_90b11c8a4599row9_col13 {\n",
       "            max-width:  80px;\n",
       "            font-size:  10pt;\n",
       "        }    #T_0b30dd10_7622_11ea_a9c2_90b11c8a4599row9_col14 {\n",
       "            max-width:  80px;\n",
       "            font-size:  10pt;\n",
       "        }    #T_0b30dd10_7622_11ea_a9c2_90b11c8a4599row9_col15 {\n",
       "            max-width:  80px;\n",
       "            font-size:  10pt;\n",
       "        }    #T_0b30dd10_7622_11ea_a9c2_90b11c8a4599row9_col16 {\n",
       "            max-width:  80px;\n",
       "            font-size:  10pt;\n",
       "        }    #T_0b30dd10_7622_11ea_a9c2_90b11c8a4599row10_col0 {\n",
       "            max-width:  80px;\n",
       "            font-size:  10pt;\n",
       "        }    #T_0b30dd10_7622_11ea_a9c2_90b11c8a4599row10_col1 {\n",
       "            max-width:  80px;\n",
       "            font-size:  10pt;\n",
       "        }    #T_0b30dd10_7622_11ea_a9c2_90b11c8a4599row10_col2 {\n",
       "            max-width:  80px;\n",
       "            font-size:  10pt;\n",
       "        }    #T_0b30dd10_7622_11ea_a9c2_90b11c8a4599row10_col3 {\n",
       "            max-width:  80px;\n",
       "            font-size:  10pt;\n",
       "        }    #T_0b30dd10_7622_11ea_a9c2_90b11c8a4599row10_col4 {\n",
       "            max-width:  80px;\n",
       "            font-size:  10pt;\n",
       "        }    #T_0b30dd10_7622_11ea_a9c2_90b11c8a4599row10_col5 {\n",
       "            max-width:  80px;\n",
       "            font-size:  10pt;\n",
       "        }    #T_0b30dd10_7622_11ea_a9c2_90b11c8a4599row10_col6 {\n",
       "            max-width:  80px;\n",
       "            font-size:  10pt;\n",
       "        }    #T_0b30dd10_7622_11ea_a9c2_90b11c8a4599row10_col7 {\n",
       "            max-width:  80px;\n",
       "            font-size:  10pt;\n",
       "        }    #T_0b30dd10_7622_11ea_a9c2_90b11c8a4599row10_col8 {\n",
       "            max-width:  80px;\n",
       "            font-size:  10pt;\n",
       "        }    #T_0b30dd10_7622_11ea_a9c2_90b11c8a4599row10_col9 {\n",
       "            max-width:  80px;\n",
       "            font-size:  10pt;\n",
       "        }    #T_0b30dd10_7622_11ea_a9c2_90b11c8a4599row10_col10 {\n",
       "            max-width:  80px;\n",
       "            font-size:  10pt;\n",
       "        }    #T_0b30dd10_7622_11ea_a9c2_90b11c8a4599row10_col11 {\n",
       "            max-width:  80px;\n",
       "            font-size:  10pt;\n",
       "        }    #T_0b30dd10_7622_11ea_a9c2_90b11c8a4599row10_col12 {\n",
       "            max-width:  80px;\n",
       "            font-size:  10pt;\n",
       "        }    #T_0b30dd10_7622_11ea_a9c2_90b11c8a4599row10_col13 {\n",
       "            max-width:  80px;\n",
       "            font-size:  10pt;\n",
       "        }    #T_0b30dd10_7622_11ea_a9c2_90b11c8a4599row10_col14 {\n",
       "            max-width:  80px;\n",
       "            font-size:  10pt;\n",
       "        }    #T_0b30dd10_7622_11ea_a9c2_90b11c8a4599row10_col15 {\n",
       "            max-width:  80px;\n",
       "            font-size:  10pt;\n",
       "        }    #T_0b30dd10_7622_11ea_a9c2_90b11c8a4599row10_col16 {\n",
       "            max-width:  80px;\n",
       "            font-size:  10pt;\n",
       "        }    #T_0b30dd10_7622_11ea_a9c2_90b11c8a4599row11_col0 {\n",
       "            max-width:  80px;\n",
       "            font-size:  10pt;\n",
       "        }    #T_0b30dd10_7622_11ea_a9c2_90b11c8a4599row11_col1 {\n",
       "            max-width:  80px;\n",
       "            font-size:  10pt;\n",
       "        }    #T_0b30dd10_7622_11ea_a9c2_90b11c8a4599row11_col2 {\n",
       "            max-width:  80px;\n",
       "            font-size:  10pt;\n",
       "        }    #T_0b30dd10_7622_11ea_a9c2_90b11c8a4599row11_col3 {\n",
       "            max-width:  80px;\n",
       "            font-size:  10pt;\n",
       "        }    #T_0b30dd10_7622_11ea_a9c2_90b11c8a4599row11_col4 {\n",
       "            max-width:  80px;\n",
       "            font-size:  10pt;\n",
       "        }    #T_0b30dd10_7622_11ea_a9c2_90b11c8a4599row11_col5 {\n",
       "            max-width:  80px;\n",
       "            font-size:  10pt;\n",
       "        }    #T_0b30dd10_7622_11ea_a9c2_90b11c8a4599row11_col6 {\n",
       "            max-width:  80px;\n",
       "            font-size:  10pt;\n",
       "        }    #T_0b30dd10_7622_11ea_a9c2_90b11c8a4599row11_col7 {\n",
       "            max-width:  80px;\n",
       "            font-size:  10pt;\n",
       "        }    #T_0b30dd10_7622_11ea_a9c2_90b11c8a4599row11_col8 {\n",
       "            max-width:  80px;\n",
       "            font-size:  10pt;\n",
       "        }    #T_0b30dd10_7622_11ea_a9c2_90b11c8a4599row11_col9 {\n",
       "            max-width:  80px;\n",
       "            font-size:  10pt;\n",
       "        }    #T_0b30dd10_7622_11ea_a9c2_90b11c8a4599row11_col10 {\n",
       "            max-width:  80px;\n",
       "            font-size:  10pt;\n",
       "        }    #T_0b30dd10_7622_11ea_a9c2_90b11c8a4599row11_col11 {\n",
       "            max-width:  80px;\n",
       "            font-size:  10pt;\n",
       "        }    #T_0b30dd10_7622_11ea_a9c2_90b11c8a4599row11_col12 {\n",
       "            max-width:  80px;\n",
       "            font-size:  10pt;\n",
       "        }    #T_0b30dd10_7622_11ea_a9c2_90b11c8a4599row11_col13 {\n",
       "            max-width:  80px;\n",
       "            font-size:  10pt;\n",
       "        }    #T_0b30dd10_7622_11ea_a9c2_90b11c8a4599row11_col14 {\n",
       "            max-width:  80px;\n",
       "            font-size:  10pt;\n",
       "        }    #T_0b30dd10_7622_11ea_a9c2_90b11c8a4599row11_col15 {\n",
       "            max-width:  80px;\n",
       "            font-size:  10pt;\n",
       "        }    #T_0b30dd10_7622_11ea_a9c2_90b11c8a4599row11_col16 {\n",
       "            max-width:  80px;\n",
       "            font-size:  10pt;\n",
       "        }    #T_0b30dd10_7622_11ea_a9c2_90b11c8a4599row12_col0 {\n",
       "            max-width:  80px;\n",
       "            font-size:  10pt;\n",
       "        }    #T_0b30dd10_7622_11ea_a9c2_90b11c8a4599row12_col1 {\n",
       "            max-width:  80px;\n",
       "            font-size:  10pt;\n",
       "        }    #T_0b30dd10_7622_11ea_a9c2_90b11c8a4599row12_col2 {\n",
       "            max-width:  80px;\n",
       "            font-size:  10pt;\n",
       "        }    #T_0b30dd10_7622_11ea_a9c2_90b11c8a4599row12_col3 {\n",
       "            max-width:  80px;\n",
       "            font-size:  10pt;\n",
       "        }    #T_0b30dd10_7622_11ea_a9c2_90b11c8a4599row12_col4 {\n",
       "            max-width:  80px;\n",
       "            font-size:  10pt;\n",
       "        }    #T_0b30dd10_7622_11ea_a9c2_90b11c8a4599row12_col5 {\n",
       "            max-width:  80px;\n",
       "            font-size:  10pt;\n",
       "        }    #T_0b30dd10_7622_11ea_a9c2_90b11c8a4599row12_col6 {\n",
       "            max-width:  80px;\n",
       "            font-size:  10pt;\n",
       "        }    #T_0b30dd10_7622_11ea_a9c2_90b11c8a4599row12_col7 {\n",
       "            max-width:  80px;\n",
       "            font-size:  10pt;\n",
       "        }    #T_0b30dd10_7622_11ea_a9c2_90b11c8a4599row12_col8 {\n",
       "            max-width:  80px;\n",
       "            font-size:  10pt;\n",
       "        }    #T_0b30dd10_7622_11ea_a9c2_90b11c8a4599row12_col9 {\n",
       "            max-width:  80px;\n",
       "            font-size:  10pt;\n",
       "        }    #T_0b30dd10_7622_11ea_a9c2_90b11c8a4599row12_col10 {\n",
       "            max-width:  80px;\n",
       "            font-size:  10pt;\n",
       "        }    #T_0b30dd10_7622_11ea_a9c2_90b11c8a4599row12_col11 {\n",
       "            max-width:  80px;\n",
       "            font-size:  10pt;\n",
       "        }    #T_0b30dd10_7622_11ea_a9c2_90b11c8a4599row12_col12 {\n",
       "            max-width:  80px;\n",
       "            font-size:  10pt;\n",
       "        }    #T_0b30dd10_7622_11ea_a9c2_90b11c8a4599row12_col13 {\n",
       "            max-width:  80px;\n",
       "            font-size:  10pt;\n",
       "        }    #T_0b30dd10_7622_11ea_a9c2_90b11c8a4599row12_col14 {\n",
       "            max-width:  80px;\n",
       "            font-size:  10pt;\n",
       "        }    #T_0b30dd10_7622_11ea_a9c2_90b11c8a4599row12_col15 {\n",
       "            max-width:  80px;\n",
       "            font-size:  10pt;\n",
       "        }    #T_0b30dd10_7622_11ea_a9c2_90b11c8a4599row12_col16 {\n",
       "            max-width:  80px;\n",
       "            font-size:  10pt;\n",
       "        }    #T_0b30dd10_7622_11ea_a9c2_90b11c8a4599row13_col0 {\n",
       "            max-width:  80px;\n",
       "            font-size:  10pt;\n",
       "        }    #T_0b30dd10_7622_11ea_a9c2_90b11c8a4599row13_col1 {\n",
       "            max-width:  80px;\n",
       "            font-size:  10pt;\n",
       "        }    #T_0b30dd10_7622_11ea_a9c2_90b11c8a4599row13_col2 {\n",
       "            max-width:  80px;\n",
       "            font-size:  10pt;\n",
       "        }    #T_0b30dd10_7622_11ea_a9c2_90b11c8a4599row13_col3 {\n",
       "            max-width:  80px;\n",
       "            font-size:  10pt;\n",
       "        }    #T_0b30dd10_7622_11ea_a9c2_90b11c8a4599row13_col4 {\n",
       "            max-width:  80px;\n",
       "            font-size:  10pt;\n",
       "        }    #T_0b30dd10_7622_11ea_a9c2_90b11c8a4599row13_col5 {\n",
       "            max-width:  80px;\n",
       "            font-size:  10pt;\n",
       "        }    #T_0b30dd10_7622_11ea_a9c2_90b11c8a4599row13_col6 {\n",
       "            max-width:  80px;\n",
       "            font-size:  10pt;\n",
       "        }    #T_0b30dd10_7622_11ea_a9c2_90b11c8a4599row13_col7 {\n",
       "            max-width:  80px;\n",
       "            font-size:  10pt;\n",
       "        }    #T_0b30dd10_7622_11ea_a9c2_90b11c8a4599row13_col8 {\n",
       "            max-width:  80px;\n",
       "            font-size:  10pt;\n",
       "        }    #T_0b30dd10_7622_11ea_a9c2_90b11c8a4599row13_col9 {\n",
       "            max-width:  80px;\n",
       "            font-size:  10pt;\n",
       "        }    #T_0b30dd10_7622_11ea_a9c2_90b11c8a4599row13_col10 {\n",
       "            max-width:  80px;\n",
       "            font-size:  10pt;\n",
       "        }    #T_0b30dd10_7622_11ea_a9c2_90b11c8a4599row13_col11 {\n",
       "            max-width:  80px;\n",
       "            font-size:  10pt;\n",
       "        }    #T_0b30dd10_7622_11ea_a9c2_90b11c8a4599row13_col12 {\n",
       "            max-width:  80px;\n",
       "            font-size:  10pt;\n",
       "        }    #T_0b30dd10_7622_11ea_a9c2_90b11c8a4599row13_col13 {\n",
       "            max-width:  80px;\n",
       "            font-size:  10pt;\n",
       "        }    #T_0b30dd10_7622_11ea_a9c2_90b11c8a4599row13_col14 {\n",
       "            max-width:  80px;\n",
       "            font-size:  10pt;\n",
       "        }    #T_0b30dd10_7622_11ea_a9c2_90b11c8a4599row13_col15 {\n",
       "            max-width:  80px;\n",
       "            font-size:  10pt;\n",
       "        }    #T_0b30dd10_7622_11ea_a9c2_90b11c8a4599row13_col16 {\n",
       "            max-width:  80px;\n",
       "            font-size:  10pt;\n",
       "        }    #T_0b30dd10_7622_11ea_a9c2_90b11c8a4599row14_col0 {\n",
       "            max-width:  80px;\n",
       "            font-size:  10pt;\n",
       "        }    #T_0b30dd10_7622_11ea_a9c2_90b11c8a4599row14_col1 {\n",
       "            max-width:  80px;\n",
       "            font-size:  10pt;\n",
       "        }    #T_0b30dd10_7622_11ea_a9c2_90b11c8a4599row14_col2 {\n",
       "            max-width:  80px;\n",
       "            font-size:  10pt;\n",
       "        }    #T_0b30dd10_7622_11ea_a9c2_90b11c8a4599row14_col3 {\n",
       "            max-width:  80px;\n",
       "            font-size:  10pt;\n",
       "        }    #T_0b30dd10_7622_11ea_a9c2_90b11c8a4599row14_col4 {\n",
       "            max-width:  80px;\n",
       "            font-size:  10pt;\n",
       "        }    #T_0b30dd10_7622_11ea_a9c2_90b11c8a4599row14_col5 {\n",
       "            max-width:  80px;\n",
       "            font-size:  10pt;\n",
       "        }    #T_0b30dd10_7622_11ea_a9c2_90b11c8a4599row14_col6 {\n",
       "            max-width:  80px;\n",
       "            font-size:  10pt;\n",
       "        }    #T_0b30dd10_7622_11ea_a9c2_90b11c8a4599row14_col7 {\n",
       "            max-width:  80px;\n",
       "            font-size:  10pt;\n",
       "        }    #T_0b30dd10_7622_11ea_a9c2_90b11c8a4599row14_col8 {\n",
       "            max-width:  80px;\n",
       "            font-size:  10pt;\n",
       "        }    #T_0b30dd10_7622_11ea_a9c2_90b11c8a4599row14_col9 {\n",
       "            max-width:  80px;\n",
       "            font-size:  10pt;\n",
       "        }    #T_0b30dd10_7622_11ea_a9c2_90b11c8a4599row14_col10 {\n",
       "            max-width:  80px;\n",
       "            font-size:  10pt;\n",
       "        }    #T_0b30dd10_7622_11ea_a9c2_90b11c8a4599row14_col11 {\n",
       "            max-width:  80px;\n",
       "            font-size:  10pt;\n",
       "        }    #T_0b30dd10_7622_11ea_a9c2_90b11c8a4599row14_col12 {\n",
       "            max-width:  80px;\n",
       "            font-size:  10pt;\n",
       "        }    #T_0b30dd10_7622_11ea_a9c2_90b11c8a4599row14_col13 {\n",
       "            max-width:  80px;\n",
       "            font-size:  10pt;\n",
       "        }    #T_0b30dd10_7622_11ea_a9c2_90b11c8a4599row14_col14 {\n",
       "            max-width:  80px;\n",
       "            font-size:  10pt;\n",
       "        }    #T_0b30dd10_7622_11ea_a9c2_90b11c8a4599row14_col15 {\n",
       "            max-width:  80px;\n",
       "            font-size:  10pt;\n",
       "        }    #T_0b30dd10_7622_11ea_a9c2_90b11c8a4599row14_col16 {\n",
       "            max-width:  80px;\n",
       "            font-size:  10pt;\n",
       "        }    #T_0b30dd10_7622_11ea_a9c2_90b11c8a4599row15_col0 {\n",
       "            max-width:  80px;\n",
       "            font-size:  10pt;\n",
       "        }    #T_0b30dd10_7622_11ea_a9c2_90b11c8a4599row15_col1 {\n",
       "            max-width:  80px;\n",
       "            font-size:  10pt;\n",
       "        }    #T_0b30dd10_7622_11ea_a9c2_90b11c8a4599row15_col2 {\n",
       "            max-width:  80px;\n",
       "            font-size:  10pt;\n",
       "        }    #T_0b30dd10_7622_11ea_a9c2_90b11c8a4599row15_col3 {\n",
       "            max-width:  80px;\n",
       "            font-size:  10pt;\n",
       "        }    #T_0b30dd10_7622_11ea_a9c2_90b11c8a4599row15_col4 {\n",
       "            max-width:  80px;\n",
       "            font-size:  10pt;\n",
       "        }    #T_0b30dd10_7622_11ea_a9c2_90b11c8a4599row15_col5 {\n",
       "            max-width:  80px;\n",
       "            font-size:  10pt;\n",
       "        }    #T_0b30dd10_7622_11ea_a9c2_90b11c8a4599row15_col6 {\n",
       "            max-width:  80px;\n",
       "            font-size:  10pt;\n",
       "        }    #T_0b30dd10_7622_11ea_a9c2_90b11c8a4599row15_col7 {\n",
       "            max-width:  80px;\n",
       "            font-size:  10pt;\n",
       "        }    #T_0b30dd10_7622_11ea_a9c2_90b11c8a4599row15_col8 {\n",
       "            max-width:  80px;\n",
       "            font-size:  10pt;\n",
       "        }    #T_0b30dd10_7622_11ea_a9c2_90b11c8a4599row15_col9 {\n",
       "            max-width:  80px;\n",
       "            font-size:  10pt;\n",
       "        }    #T_0b30dd10_7622_11ea_a9c2_90b11c8a4599row15_col10 {\n",
       "            max-width:  80px;\n",
       "            font-size:  10pt;\n",
       "        }    #T_0b30dd10_7622_11ea_a9c2_90b11c8a4599row15_col11 {\n",
       "            max-width:  80px;\n",
       "            font-size:  10pt;\n",
       "        }    #T_0b30dd10_7622_11ea_a9c2_90b11c8a4599row15_col12 {\n",
       "            max-width:  80px;\n",
       "            font-size:  10pt;\n",
       "        }    #T_0b30dd10_7622_11ea_a9c2_90b11c8a4599row15_col13 {\n",
       "            max-width:  80px;\n",
       "            font-size:  10pt;\n",
       "        }    #T_0b30dd10_7622_11ea_a9c2_90b11c8a4599row15_col14 {\n",
       "            max-width:  80px;\n",
       "            font-size:  10pt;\n",
       "        }    #T_0b30dd10_7622_11ea_a9c2_90b11c8a4599row15_col15 {\n",
       "            max-width:  80px;\n",
       "            font-size:  10pt;\n",
       "        }    #T_0b30dd10_7622_11ea_a9c2_90b11c8a4599row15_col16 {\n",
       "            max-width:  80px;\n",
       "            font-size:  10pt;\n",
       "        }    #T_0b30dd10_7622_11ea_a9c2_90b11c8a4599row16_col0 {\n",
       "            max-width:  80px;\n",
       "            font-size:  10pt;\n",
       "        }    #T_0b30dd10_7622_11ea_a9c2_90b11c8a4599row16_col1 {\n",
       "            max-width:  80px;\n",
       "            font-size:  10pt;\n",
       "        }    #T_0b30dd10_7622_11ea_a9c2_90b11c8a4599row16_col2 {\n",
       "            max-width:  80px;\n",
       "            font-size:  10pt;\n",
       "        }    #T_0b30dd10_7622_11ea_a9c2_90b11c8a4599row16_col3 {\n",
       "            max-width:  80px;\n",
       "            font-size:  10pt;\n",
       "        }    #T_0b30dd10_7622_11ea_a9c2_90b11c8a4599row16_col4 {\n",
       "            max-width:  80px;\n",
       "            font-size:  10pt;\n",
       "        }    #T_0b30dd10_7622_11ea_a9c2_90b11c8a4599row16_col5 {\n",
       "            max-width:  80px;\n",
       "            font-size:  10pt;\n",
       "        }    #T_0b30dd10_7622_11ea_a9c2_90b11c8a4599row16_col6 {\n",
       "            max-width:  80px;\n",
       "            font-size:  10pt;\n",
       "        }    #T_0b30dd10_7622_11ea_a9c2_90b11c8a4599row16_col7 {\n",
       "            max-width:  80px;\n",
       "            font-size:  10pt;\n",
       "        }    #T_0b30dd10_7622_11ea_a9c2_90b11c8a4599row16_col8 {\n",
       "            max-width:  80px;\n",
       "            font-size:  10pt;\n",
       "        }    #T_0b30dd10_7622_11ea_a9c2_90b11c8a4599row16_col9 {\n",
       "            max-width:  80px;\n",
       "            font-size:  10pt;\n",
       "        }    #T_0b30dd10_7622_11ea_a9c2_90b11c8a4599row16_col10 {\n",
       "            max-width:  80px;\n",
       "            font-size:  10pt;\n",
       "        }    #T_0b30dd10_7622_11ea_a9c2_90b11c8a4599row16_col11 {\n",
       "            max-width:  80px;\n",
       "            font-size:  10pt;\n",
       "        }    #T_0b30dd10_7622_11ea_a9c2_90b11c8a4599row16_col12 {\n",
       "            max-width:  80px;\n",
       "            font-size:  10pt;\n",
       "        }    #T_0b30dd10_7622_11ea_a9c2_90b11c8a4599row16_col13 {\n",
       "            max-width:  80px;\n",
       "            font-size:  10pt;\n",
       "        }    #T_0b30dd10_7622_11ea_a9c2_90b11c8a4599row16_col14 {\n",
       "            max-width:  80px;\n",
       "            font-size:  10pt;\n",
       "        }    #T_0b30dd10_7622_11ea_a9c2_90b11c8a4599row16_col15 {\n",
       "            max-width:  80px;\n",
       "            font-size:  10pt;\n",
       "        }    #T_0b30dd10_7622_11ea_a9c2_90b11c8a4599row16_col16 {\n",
       "            max-width:  80px;\n",
       "            font-size:  10pt;\n",
       "        }</style><table id=\"T_0b30dd10_7622_11ea_a9c2_90b11c8a4599\" ><caption>Hover to magify</caption><thead>    <tr>        <th class=\"blank level0\" ></th>        <th class=\"col_heading level0 col0\" >No</th>        <th class=\"col_heading level0 col1\" >year</th>        <th class=\"col_heading level0 col2\" >month</th>        <th class=\"col_heading level0 col3\" >day</th>        <th class=\"col_heading level0 col4\" >hour</th>        <th class=\"col_heading level0 col5\" >season</th>        <th class=\"col_heading level0 col6\" >PM_Dongsi</th>        <th class=\"col_heading level0 col7\" >PM_Dongsihuan</th>        <th class=\"col_heading level0 col8\" >PM_Nongzhanguan</th>        <th class=\"col_heading level0 col9\" >PM_US Post</th>        <th class=\"col_heading level0 col10\" >DEWP</th>        <th class=\"col_heading level0 col11\" >HUMI</th>        <th class=\"col_heading level0 col12\" >PRES</th>        <th class=\"col_heading level0 col13\" >TEMP</th>        <th class=\"col_heading level0 col14\" >Iws</th>        <th class=\"col_heading level0 col15\" >precipitation</th>        <th class=\"col_heading level0 col16\" >Iprec</th>    </tr></thead><tbody>\n",
       "                <tr>\n",
       "                        <th id=\"T_0b30dd10_7622_11ea_a9c2_90b11c8a4599level0_row0\" class=\"row_heading level0 row0\" >No</th>\n",
       "                        <td id=\"T_0b30dd10_7622_11ea_a9c2_90b11c8a4599row0_col0\" class=\"data row0 col0\" >1.00</td>\n",
       "                        <td id=\"T_0b30dd10_7622_11ea_a9c2_90b11c8a4599row0_col1\" class=\"data row0 col1\" >0.99</td>\n",
       "                        <td id=\"T_0b30dd10_7622_11ea_a9c2_90b11c8a4599row0_col2\" class=\"data row0 col2\" >0.17</td>\n",
       "                        <td id=\"T_0b30dd10_7622_11ea_a9c2_90b11c8a4599row0_col3\" class=\"data row0 col3\" >0.02</td>\n",
       "                        <td id=\"T_0b30dd10_7622_11ea_a9c2_90b11c8a4599row0_col4\" class=\"data row0 col4\" >0.00</td>\n",
       "                        <td id=\"T_0b30dd10_7622_11ea_a9c2_90b11c8a4599row0_col5\" class=\"data row0 col5\" >0.03</td>\n",
       "                        <td id=\"T_0b30dd10_7622_11ea_a9c2_90b11c8a4599row0_col6\" class=\"data row0 col6\" >-0.04</td>\n",
       "                        <td id=\"T_0b30dd10_7622_11ea_a9c2_90b11c8a4599row0_col7\" class=\"data row0 col7\" >-0.02</td>\n",
       "                        <td id=\"T_0b30dd10_7622_11ea_a9c2_90b11c8a4599row0_col8\" class=\"data row0 col8\" >-0.02</td>\n",
       "                        <td id=\"T_0b30dd10_7622_11ea_a9c2_90b11c8a4599row0_col9\" class=\"data row0 col9\" >-0.05</td>\n",
       "                        <td id=\"T_0b30dd10_7622_11ea_a9c2_90b11c8a4599row0_col10\" class=\"data row0 col10\" >0.07</td>\n",
       "                        <td id=\"T_0b30dd10_7622_11ea_a9c2_90b11c8a4599row0_col11\" class=\"data row0 col11\" >0.02</td>\n",
       "                        <td id=\"T_0b30dd10_7622_11ea_a9c2_90b11c8a4599row0_col12\" class=\"data row0 col12\" >-0.01</td>\n",
       "                        <td id=\"T_0b30dd10_7622_11ea_a9c2_90b11c8a4599row0_col13\" class=\"data row0 col13\" >0.07</td>\n",
       "                        <td id=\"T_0b30dd10_7622_11ea_a9c2_90b11c8a4599row0_col14\" class=\"data row0 col14\" >-0.06</td>\n",
       "                        <td id=\"T_0b30dd10_7622_11ea_a9c2_90b11c8a4599row0_col15\" class=\"data row0 col15\" >0.01</td>\n",
       "                        <td id=\"T_0b30dd10_7622_11ea_a9c2_90b11c8a4599row0_col16\" class=\"data row0 col16\" >0.01</td>\n",
       "            </tr>\n",
       "            <tr>\n",
       "                        <th id=\"T_0b30dd10_7622_11ea_a9c2_90b11c8a4599level0_row1\" class=\"row_heading level0 row1\" >year</th>\n",
       "                        <td id=\"T_0b30dd10_7622_11ea_a9c2_90b11c8a4599row1_col0\" class=\"data row1 col0\" >0.99</td>\n",
       "                        <td id=\"T_0b30dd10_7622_11ea_a9c2_90b11c8a4599row1_col1\" class=\"data row1 col1\" >1.00</td>\n",
       "                        <td id=\"T_0b30dd10_7622_11ea_a9c2_90b11c8a4599row1_col2\" class=\"data row1 col2\" >0.00</td>\n",
       "                        <td id=\"T_0b30dd10_7622_11ea_a9c2_90b11c8a4599row1_col3\" class=\"data row1 col3\" >-0.00</td>\n",
       "                        <td id=\"T_0b30dd10_7622_11ea_a9c2_90b11c8a4599row1_col4\" class=\"data row1 col4\" >0.00</td>\n",
       "                        <td id=\"T_0b30dd10_7622_11ea_a9c2_90b11c8a4599row1_col5\" class=\"data row1 col5\" >-0.00</td>\n",
       "                        <td id=\"T_0b30dd10_7622_11ea_a9c2_90b11c8a4599row1_col6\" class=\"data row1 col6\" >-0.03</td>\n",
       "                        <td id=\"T_0b30dd10_7622_11ea_a9c2_90b11c8a4599row1_col7\" class=\"data row1 col7\" >-0.01</td>\n",
       "                        <td id=\"T_0b30dd10_7622_11ea_a9c2_90b11c8a4599row1_col8\" class=\"data row1 col8\" >-0.02</td>\n",
       "                        <td id=\"T_0b30dd10_7622_11ea_a9c2_90b11c8a4599row1_col9\" class=\"data row1 col9\" >-0.05</td>\n",
       "                        <td id=\"T_0b30dd10_7622_11ea_a9c2_90b11c8a4599row1_col10\" class=\"data row1 col10\" >0.03</td>\n",
       "                        <td id=\"T_0b30dd10_7622_11ea_a9c2_90b11c8a4599row1_col11\" class=\"data row1 col11\" >-0.02</td>\n",
       "                        <td id=\"T_0b30dd10_7622_11ea_a9c2_90b11c8a4599row1_col12\" class=\"data row1 col12\" >-0.01</td>\n",
       "                        <td id=\"T_0b30dd10_7622_11ea_a9c2_90b11c8a4599row1_col13\" class=\"data row1 col13\" >0.05</td>\n",
       "                        <td id=\"T_0b30dd10_7622_11ea_a9c2_90b11c8a4599row1_col14\" class=\"data row1 col14\" >-0.06</td>\n",
       "                        <td id=\"T_0b30dd10_7622_11ea_a9c2_90b11c8a4599row1_col15\" class=\"data row1 col15\" >0.01</td>\n",
       "                        <td id=\"T_0b30dd10_7622_11ea_a9c2_90b11c8a4599row1_col16\" class=\"data row1 col16\" >0.01</td>\n",
       "            </tr>\n",
       "            <tr>\n",
       "                        <th id=\"T_0b30dd10_7622_11ea_a9c2_90b11c8a4599level0_row2\" class=\"row_heading level0 row2\" >month</th>\n",
       "                        <td id=\"T_0b30dd10_7622_11ea_a9c2_90b11c8a4599row2_col0\" class=\"data row2 col0\" >0.17</td>\n",
       "                        <td id=\"T_0b30dd10_7622_11ea_a9c2_90b11c8a4599row2_col1\" class=\"data row2 col1\" >0.00</td>\n",
       "                        <td id=\"T_0b30dd10_7622_11ea_a9c2_90b11c8a4599row2_col2\" class=\"data row2 col2\" >1.00</td>\n",
       "                        <td id=\"T_0b30dd10_7622_11ea_a9c2_90b11c8a4599row2_col3\" class=\"data row2 col3\" >0.01</td>\n",
       "                        <td id=\"T_0b30dd10_7622_11ea_a9c2_90b11c8a4599row2_col4\" class=\"data row2 col4\" >-0.00</td>\n",
       "                        <td id=\"T_0b30dd10_7622_11ea_a9c2_90b11c8a4599row2_col5\" class=\"data row2 col5\" >0.21</td>\n",
       "                        <td id=\"T_0b30dd10_7622_11ea_a9c2_90b11c8a4599row2_col6\" class=\"data row2 col6\" >-0.06</td>\n",
       "                        <td id=\"T_0b30dd10_7622_11ea_a9c2_90b11c8a4599row2_col7\" class=\"data row2 col7\" >-0.03</td>\n",
       "                        <td id=\"T_0b30dd10_7622_11ea_a9c2_90b11c8a4599row2_col8\" class=\"data row2 col8\" >-0.03</td>\n",
       "                        <td id=\"T_0b30dd10_7622_11ea_a9c2_90b11c8a4599row2_col9\" class=\"data row2 col9\" >-0.01</td>\n",
       "                        <td id=\"T_0b30dd10_7622_11ea_a9c2_90b11c8a4599row2_col10\" class=\"data row2 col10\" >0.25</td>\n",
       "                        <td id=\"T_0b30dd10_7622_11ea_a9c2_90b11c8a4599row2_col11\" class=\"data row2 col11\" >0.22</td>\n",
       "                        <td id=\"T_0b30dd10_7622_11ea_a9c2_90b11c8a4599row2_col12\" class=\"data row2 col12\" >-0.05</td>\n",
       "                        <td id=\"T_0b30dd10_7622_11ea_a9c2_90b11c8a4599row2_col13\" class=\"data row2 col13\" >0.16</td>\n",
       "                        <td id=\"T_0b30dd10_7622_11ea_a9c2_90b11c8a4599row2_col14\" class=\"data row2 col14\" >0.01</td>\n",
       "                        <td id=\"T_0b30dd10_7622_11ea_a9c2_90b11c8a4599row2_col15\" class=\"data row2 col15\" >0.01</td>\n",
       "                        <td id=\"T_0b30dd10_7622_11ea_a9c2_90b11c8a4599row2_col16\" class=\"data row2 col16\" >0.01</td>\n",
       "            </tr>\n",
       "            <tr>\n",
       "                        <th id=\"T_0b30dd10_7622_11ea_a9c2_90b11c8a4599level0_row3\" class=\"row_heading level0 row3\" >day</th>\n",
       "                        <td id=\"T_0b30dd10_7622_11ea_a9c2_90b11c8a4599row3_col0\" class=\"data row3 col0\" >0.02</td>\n",
       "                        <td id=\"T_0b30dd10_7622_11ea_a9c2_90b11c8a4599row3_col1\" class=\"data row3 col1\" >-0.00</td>\n",
       "                        <td id=\"T_0b30dd10_7622_11ea_a9c2_90b11c8a4599row3_col2\" class=\"data row3 col2\" >0.01</td>\n",
       "                        <td id=\"T_0b30dd10_7622_11ea_a9c2_90b11c8a4599row3_col3\" class=\"data row3 col3\" >1.00</td>\n",
       "                        <td id=\"T_0b30dd10_7622_11ea_a9c2_90b11c8a4599row3_col4\" class=\"data row3 col4\" >0.00</td>\n",
       "                        <td id=\"T_0b30dd10_7622_11ea_a9c2_90b11c8a4599row3_col5\" class=\"data row3 col5\" >-0.01</td>\n",
       "                        <td id=\"T_0b30dd10_7622_11ea_a9c2_90b11c8a4599row3_col6\" class=\"data row3 col6\" >0.07</td>\n",
       "                        <td id=\"T_0b30dd10_7622_11ea_a9c2_90b11c8a4599row3_col7\" class=\"data row3 col7\" >0.06</td>\n",
       "                        <td id=\"T_0b30dd10_7622_11ea_a9c2_90b11c8a4599row3_col8\" class=\"data row3 col8\" >0.07</td>\n",
       "                        <td id=\"T_0b30dd10_7622_11ea_a9c2_90b11c8a4599row3_col9\" class=\"data row3 col9\" >0.08</td>\n",
       "                        <td id=\"T_0b30dd10_7622_11ea_a9c2_90b11c8a4599row3_col10\" class=\"data row3 col10\" >0.04</td>\n",
       "                        <td id=\"T_0b30dd10_7622_11ea_a9c2_90b11c8a4599row3_col11\" class=\"data row3 col11\" >0.04</td>\n",
       "                        <td id=\"T_0b30dd10_7622_11ea_a9c2_90b11c8a4599row3_col12\" class=\"data row3 col12\" >-0.00</td>\n",
       "                        <td id=\"T_0b30dd10_7622_11ea_a9c2_90b11c8a4599row3_col13\" class=\"data row3 col13\" >0.02</td>\n",
       "                        <td id=\"T_0b30dd10_7622_11ea_a9c2_90b11c8a4599row3_col14\" class=\"data row3 col14\" >-0.02</td>\n",
       "                        <td id=\"T_0b30dd10_7622_11ea_a9c2_90b11c8a4599row3_col15\" class=\"data row3 col15\" >-0.00</td>\n",
       "                        <td id=\"T_0b30dd10_7622_11ea_a9c2_90b11c8a4599row3_col16\" class=\"data row3 col16\" >-0.00</td>\n",
       "            </tr>\n",
       "            <tr>\n",
       "                        <th id=\"T_0b30dd10_7622_11ea_a9c2_90b11c8a4599level0_row4\" class=\"row_heading level0 row4\" >hour</th>\n",
       "                        <td id=\"T_0b30dd10_7622_11ea_a9c2_90b11c8a4599row4_col0\" class=\"data row4 col0\" >0.00</td>\n",
       "                        <td id=\"T_0b30dd10_7622_11ea_a9c2_90b11c8a4599row4_col1\" class=\"data row4 col1\" >0.00</td>\n",
       "                        <td id=\"T_0b30dd10_7622_11ea_a9c2_90b11c8a4599row4_col2\" class=\"data row4 col2\" >-0.00</td>\n",
       "                        <td id=\"T_0b30dd10_7622_11ea_a9c2_90b11c8a4599row4_col3\" class=\"data row4 col3\" >0.00</td>\n",
       "                        <td id=\"T_0b30dd10_7622_11ea_a9c2_90b11c8a4599row4_col4\" class=\"data row4 col4\" >1.00</td>\n",
       "                        <td id=\"T_0b30dd10_7622_11ea_a9c2_90b11c8a4599row4_col5\" class=\"data row4 col5\" >-0.00</td>\n",
       "                        <td id=\"T_0b30dd10_7622_11ea_a9c2_90b11c8a4599row4_col6\" class=\"data row4 col6\" >0.02</td>\n",
       "                        <td id=\"T_0b30dd10_7622_11ea_a9c2_90b11c8a4599row4_col7\" class=\"data row4 col7\" >-0.03</td>\n",
       "                        <td id=\"T_0b30dd10_7622_11ea_a9c2_90b11c8a4599row4_col8\" class=\"data row4 col8\" >-0.01</td>\n",
       "                        <td id=\"T_0b30dd10_7622_11ea_a9c2_90b11c8a4599row4_col9\" class=\"data row4 col9\" >0.00</td>\n",
       "                        <td id=\"T_0b30dd10_7622_11ea_a9c2_90b11c8a4599row4_col10\" class=\"data row4 col10\" >-0.02</td>\n",
       "                        <td id=\"T_0b30dd10_7622_11ea_a9c2_90b11c8a4599row4_col11\" class=\"data row4 col11\" >-0.26</td>\n",
       "                        <td id=\"T_0b30dd10_7622_11ea_a9c2_90b11c8a4599row4_col12\" class=\"data row4 col12\" >-0.04</td>\n",
       "                        <td id=\"T_0b30dd10_7622_11ea_a9c2_90b11c8a4599row4_col13\" class=\"data row4 col13\" >0.15</td>\n",
       "                        <td id=\"T_0b30dd10_7622_11ea_a9c2_90b11c8a4599row4_col14\" class=\"data row4 col14\" >0.06</td>\n",
       "                        <td id=\"T_0b30dd10_7622_11ea_a9c2_90b11c8a4599row4_col15\" class=\"data row4 col15\" >0.00</td>\n",
       "                        <td id=\"T_0b30dd10_7622_11ea_a9c2_90b11c8a4599row4_col16\" class=\"data row4 col16\" >0.00</td>\n",
       "            </tr>\n",
       "            <tr>\n",
       "                        <th id=\"T_0b30dd10_7622_11ea_a9c2_90b11c8a4599level0_row5\" class=\"row_heading level0 row5\" >season</th>\n",
       "                        <td id=\"T_0b30dd10_7622_11ea_a9c2_90b11c8a4599row5_col0\" class=\"data row5 col0\" >0.03</td>\n",
       "                        <td id=\"T_0b30dd10_7622_11ea_a9c2_90b11c8a4599row5_col1\" class=\"data row5 col1\" >-0.00</td>\n",
       "                        <td id=\"T_0b30dd10_7622_11ea_a9c2_90b11c8a4599row5_col2\" class=\"data row5 col2\" >0.21</td>\n",
       "                        <td id=\"T_0b30dd10_7622_11ea_a9c2_90b11c8a4599row5_col3\" class=\"data row5 col3\" >-0.01</td>\n",
       "                        <td id=\"T_0b30dd10_7622_11ea_a9c2_90b11c8a4599row5_col4\" class=\"data row5 col4\" >-0.00</td>\n",
       "                        <td id=\"T_0b30dd10_7622_11ea_a9c2_90b11c8a4599row5_col5\" class=\"data row5 col5\" >1.00</td>\n",
       "                        <td id=\"T_0b30dd10_7622_11ea_a9c2_90b11c8a4599row5_col6\" class=\"data row5 col6\" >0.13</td>\n",
       "                        <td id=\"T_0b30dd10_7622_11ea_a9c2_90b11c8a4599row5_col7\" class=\"data row5 col7\" >0.11</td>\n",
       "                        <td id=\"T_0b30dd10_7622_11ea_a9c2_90b11c8a4599row5_col8\" class=\"data row5 col8\" >0.17</td>\n",
       "                        <td id=\"T_0b30dd10_7622_11ea_a9c2_90b11c8a4599row5_col9\" class=\"data row5 col9\" >0.13</td>\n",
       "                        <td id=\"T_0b30dd10_7622_11ea_a9c2_90b11c8a4599row5_col10\" class=\"data row5 col10\" >-0.42</td>\n",
       "                        <td id=\"T_0b30dd10_7622_11ea_a9c2_90b11c8a4599row5_col11\" class=\"data row5 col11\" >0.03</td>\n",
       "                        <td id=\"T_0b30dd10_7622_11ea_a9c2_90b11c8a4599row5_col12\" class=\"data row5 col12\" >0.57</td>\n",
       "                        <td id=\"T_0b30dd10_7622_11ea_a9c2_90b11c8a4599row5_col13\" class=\"data row5 col13\" >-0.57</td>\n",
       "                        <td id=\"T_0b30dd10_7622_11ea_a9c2_90b11c8a4599row5_col14\" class=\"data row5 col14\" >0.04</td>\n",
       "                        <td id=\"T_0b30dd10_7622_11ea_a9c2_90b11c8a4599row5_col15\" class=\"data row5 col15\" >0.00</td>\n",
       "                        <td id=\"T_0b30dd10_7622_11ea_a9c2_90b11c8a4599row5_col16\" class=\"data row5 col16\" >0.00</td>\n",
       "            </tr>\n",
       "            <tr>\n",
       "                        <th id=\"T_0b30dd10_7622_11ea_a9c2_90b11c8a4599level0_row6\" class=\"row_heading level0 row6\" >PM_Dongsi</th>\n",
       "                        <td id=\"T_0b30dd10_7622_11ea_a9c2_90b11c8a4599row6_col0\" class=\"data row6 col0\" >-0.04</td>\n",
       "                        <td id=\"T_0b30dd10_7622_11ea_a9c2_90b11c8a4599row6_col1\" class=\"data row6 col1\" >-0.03</td>\n",
       "                        <td id=\"T_0b30dd10_7622_11ea_a9c2_90b11c8a4599row6_col2\" class=\"data row6 col2\" >-0.06</td>\n",
       "                        <td id=\"T_0b30dd10_7622_11ea_a9c2_90b11c8a4599row6_col3\" class=\"data row6 col3\" >0.07</td>\n",
       "                        <td id=\"T_0b30dd10_7622_11ea_a9c2_90b11c8a4599row6_col4\" class=\"data row6 col4\" >0.02</td>\n",
       "                        <td id=\"T_0b30dd10_7622_11ea_a9c2_90b11c8a4599row6_col5\" class=\"data row6 col5\" >0.13</td>\n",
       "                        <td id=\"T_0b30dd10_7622_11ea_a9c2_90b11c8a4599row6_col6\" class=\"data row6 col6\" >1.00</td>\n",
       "                        <td id=\"T_0b30dd10_7622_11ea_a9c2_90b11c8a4599row6_col7\" class=\"data row6 col7\" >0.93</td>\n",
       "                        <td id=\"T_0b30dd10_7622_11ea_a9c2_90b11c8a4599row6_col8\" class=\"data row6 col8\" >0.96</td>\n",
       "                        <td id=\"T_0b30dd10_7622_11ea_a9c2_90b11c8a4599row6_col9\" class=\"data row6 col9\" >0.96</td>\n",
       "                        <td id=\"T_0b30dd10_7622_11ea_a9c2_90b11c8a4599row6_col10\" class=\"data row6 col10\" >0.10</td>\n",
       "                        <td id=\"T_0b30dd10_7622_11ea_a9c2_90b11c8a4599row6_col11\" class=\"data row6 col11\" >0.38</td>\n",
       "                        <td id=\"T_0b30dd10_7622_11ea_a9c2_90b11c8a4599row6_col12\" class=\"data row6 col12\" >0.03</td>\n",
       "                        <td id=\"T_0b30dd10_7622_11ea_a9c2_90b11c8a4599row6_col13\" class=\"data row6 col13\" >-0.17</td>\n",
       "                        <td id=\"T_0b30dd10_7622_11ea_a9c2_90b11c8a4599row6_col14\" class=\"data row6 col14\" >-0.22</td>\n",
       "                        <td id=\"T_0b30dd10_7622_11ea_a9c2_90b11c8a4599row6_col15\" class=\"data row6 col15\" >-0.01</td>\n",
       "                        <td id=\"T_0b30dd10_7622_11ea_a9c2_90b11c8a4599row6_col16\" class=\"data row6 col16\" >-0.01</td>\n",
       "            </tr>\n",
       "            <tr>\n",
       "                        <th id=\"T_0b30dd10_7622_11ea_a9c2_90b11c8a4599level0_row7\" class=\"row_heading level0 row7\" >PM_Dongsihuan</th>\n",
       "                        <td id=\"T_0b30dd10_7622_11ea_a9c2_90b11c8a4599row7_col0\" class=\"data row7 col0\" >-0.02</td>\n",
       "                        <td id=\"T_0b30dd10_7622_11ea_a9c2_90b11c8a4599row7_col1\" class=\"data row7 col1\" >-0.01</td>\n",
       "                        <td id=\"T_0b30dd10_7622_11ea_a9c2_90b11c8a4599row7_col2\" class=\"data row7 col2\" >-0.03</td>\n",
       "                        <td id=\"T_0b30dd10_7622_11ea_a9c2_90b11c8a4599row7_col3\" class=\"data row7 col3\" >0.06</td>\n",
       "                        <td id=\"T_0b30dd10_7622_11ea_a9c2_90b11c8a4599row7_col4\" class=\"data row7 col4\" >-0.03</td>\n",
       "                        <td id=\"T_0b30dd10_7622_11ea_a9c2_90b11c8a4599row7_col5\" class=\"data row7 col5\" >0.11</td>\n",
       "                        <td id=\"T_0b30dd10_7622_11ea_a9c2_90b11c8a4599row7_col6\" class=\"data row7 col6\" >0.93</td>\n",
       "                        <td id=\"T_0b30dd10_7622_11ea_a9c2_90b11c8a4599row7_col7\" class=\"data row7 col7\" >1.00</td>\n",
       "                        <td id=\"T_0b30dd10_7622_11ea_a9c2_90b11c8a4599row7_col8\" class=\"data row7 col8\" >0.96</td>\n",
       "                        <td id=\"T_0b30dd10_7622_11ea_a9c2_90b11c8a4599row7_col9\" class=\"data row7 col9\" >0.95</td>\n",
       "                        <td id=\"T_0b30dd10_7622_11ea_a9c2_90b11c8a4599row7_col10\" class=\"data row7 col10\" >0.10</td>\n",
       "                        <td id=\"T_0b30dd10_7622_11ea_a9c2_90b11c8a4599row7_col11\" class=\"data row7 col11\" >0.39</td>\n",
       "                        <td id=\"T_0b30dd10_7622_11ea_a9c2_90b11c8a4599row7_col12\" class=\"data row7 col12\" >0.04</td>\n",
       "                        <td id=\"T_0b30dd10_7622_11ea_a9c2_90b11c8a4599row7_col13\" class=\"data row7 col13\" >-0.18</td>\n",
       "                        <td id=\"T_0b30dd10_7622_11ea_a9c2_90b11c8a4599row7_col14\" class=\"data row7 col14\" >-0.23</td>\n",
       "                        <td id=\"T_0b30dd10_7622_11ea_a9c2_90b11c8a4599row7_col15\" class=\"data row7 col15\" >-0.03</td>\n",
       "                        <td id=\"T_0b30dd10_7622_11ea_a9c2_90b11c8a4599row7_col16\" class=\"data row7 col16\" >-0.05</td>\n",
       "            </tr>\n",
       "            <tr>\n",
       "                        <th id=\"T_0b30dd10_7622_11ea_a9c2_90b11c8a4599level0_row8\" class=\"row_heading level0 row8\" >PM_Nongzhanguan</th>\n",
       "                        <td id=\"T_0b30dd10_7622_11ea_a9c2_90b11c8a4599row8_col0\" class=\"data row8 col0\" >-0.02</td>\n",
       "                        <td id=\"T_0b30dd10_7622_11ea_a9c2_90b11c8a4599row8_col1\" class=\"data row8 col1\" >-0.02</td>\n",
       "                        <td id=\"T_0b30dd10_7622_11ea_a9c2_90b11c8a4599row8_col2\" class=\"data row8 col2\" >-0.03</td>\n",
       "                        <td id=\"T_0b30dd10_7622_11ea_a9c2_90b11c8a4599row8_col3\" class=\"data row8 col3\" >0.07</td>\n",
       "                        <td id=\"T_0b30dd10_7622_11ea_a9c2_90b11c8a4599row8_col4\" class=\"data row8 col4\" >-0.01</td>\n",
       "                        <td id=\"T_0b30dd10_7622_11ea_a9c2_90b11c8a4599row8_col5\" class=\"data row8 col5\" >0.17</td>\n",
       "                        <td id=\"T_0b30dd10_7622_11ea_a9c2_90b11c8a4599row8_col6\" class=\"data row8 col6\" >0.96</td>\n",
       "                        <td id=\"T_0b30dd10_7622_11ea_a9c2_90b11c8a4599row8_col7\" class=\"data row8 col7\" >0.96</td>\n",
       "                        <td id=\"T_0b30dd10_7622_11ea_a9c2_90b11c8a4599row8_col8\" class=\"data row8 col8\" >1.00</td>\n",
       "                        <td id=\"T_0b30dd10_7622_11ea_a9c2_90b11c8a4599row8_col9\" class=\"data row8 col9\" >0.97</td>\n",
       "                        <td id=\"T_0b30dd10_7622_11ea_a9c2_90b11c8a4599row8_col10\" class=\"data row8 col10\" >0.06</td>\n",
       "                        <td id=\"T_0b30dd10_7622_11ea_a9c2_90b11c8a4599row8_col11\" class=\"data row8 col11\" >0.38</td>\n",
       "                        <td id=\"T_0b30dd10_7622_11ea_a9c2_90b11c8a4599row8_col12\" class=\"data row8 col12\" >0.07</td>\n",
       "                        <td id=\"T_0b30dd10_7622_11ea_a9c2_90b11c8a4599row8_col13\" class=\"data row8 col13\" >-0.21</td>\n",
       "                        <td id=\"T_0b30dd10_7622_11ea_a9c2_90b11c8a4599row8_col14\" class=\"data row8 col14\" >-0.22</td>\n",
       "                        <td id=\"T_0b30dd10_7622_11ea_a9c2_90b11c8a4599row8_col15\" class=\"data row8 col15\" >-0.01</td>\n",
       "                        <td id=\"T_0b30dd10_7622_11ea_a9c2_90b11c8a4599row8_col16\" class=\"data row8 col16\" >-0.01</td>\n",
       "            </tr>\n",
       "            <tr>\n",
       "                        <th id=\"T_0b30dd10_7622_11ea_a9c2_90b11c8a4599level0_row9\" class=\"row_heading level0 row9\" >PM_US Post</th>\n",
       "                        <td id=\"T_0b30dd10_7622_11ea_a9c2_90b11c8a4599row9_col0\" class=\"data row9 col0\" >-0.05</td>\n",
       "                        <td id=\"T_0b30dd10_7622_11ea_a9c2_90b11c8a4599row9_col1\" class=\"data row9 col1\" >-0.05</td>\n",
       "                        <td id=\"T_0b30dd10_7622_11ea_a9c2_90b11c8a4599row9_col2\" class=\"data row9 col2\" >-0.01</td>\n",
       "                        <td id=\"T_0b30dd10_7622_11ea_a9c2_90b11c8a4599row9_col3\" class=\"data row9 col3\" >0.08</td>\n",
       "                        <td id=\"T_0b30dd10_7622_11ea_a9c2_90b11c8a4599row9_col4\" class=\"data row9 col4\" >0.00</td>\n",
       "                        <td id=\"T_0b30dd10_7622_11ea_a9c2_90b11c8a4599row9_col5\" class=\"data row9 col5\" >0.13</td>\n",
       "                        <td id=\"T_0b30dd10_7622_11ea_a9c2_90b11c8a4599row9_col6\" class=\"data row9 col6\" >0.96</td>\n",
       "                        <td id=\"T_0b30dd10_7622_11ea_a9c2_90b11c8a4599row9_col7\" class=\"data row9 col7\" >0.95</td>\n",
       "                        <td id=\"T_0b30dd10_7622_11ea_a9c2_90b11c8a4599row9_col8\" class=\"data row9 col8\" >0.97</td>\n",
       "                        <td id=\"T_0b30dd10_7622_11ea_a9c2_90b11c8a4599row9_col9\" class=\"data row9 col9\" >1.00</td>\n",
       "                        <td id=\"T_0b30dd10_7622_11ea_a9c2_90b11c8a4599row9_col10\" class=\"data row9 col10\" >0.13</td>\n",
       "                        <td id=\"T_0b30dd10_7622_11ea_a9c2_90b11c8a4599row9_col11\" class=\"data row9 col11\" >0.42</td>\n",
       "                        <td id=\"T_0b30dd10_7622_11ea_a9c2_90b11c8a4599row9_col12\" class=\"data row9 col12\" >-0.02</td>\n",
       "                        <td id=\"T_0b30dd10_7622_11ea_a9c2_90b11c8a4599row9_col13\" class=\"data row9 col13\" >-0.13</td>\n",
       "                        <td id=\"T_0b30dd10_7622_11ea_a9c2_90b11c8a4599row9_col14\" class=\"data row9 col14\" >-0.24</td>\n",
       "                        <td id=\"T_0b30dd10_7622_11ea_a9c2_90b11c8a4599row9_col15\" class=\"data row9 col15\" >-0.00</td>\n",
       "                        <td id=\"T_0b30dd10_7622_11ea_a9c2_90b11c8a4599row9_col16\" class=\"data row9 col16\" >-0.00</td>\n",
       "            </tr>\n",
       "            <tr>\n",
       "                        <th id=\"T_0b30dd10_7622_11ea_a9c2_90b11c8a4599level0_row10\" class=\"row_heading level0 row10\" >DEWP</th>\n",
       "                        <td id=\"T_0b30dd10_7622_11ea_a9c2_90b11c8a4599row10_col0\" class=\"data row10 col0\" >0.07</td>\n",
       "                        <td id=\"T_0b30dd10_7622_11ea_a9c2_90b11c8a4599row10_col1\" class=\"data row10 col1\" >0.03</td>\n",
       "                        <td id=\"T_0b30dd10_7622_11ea_a9c2_90b11c8a4599row10_col2\" class=\"data row10 col2\" >0.25</td>\n",
       "                        <td id=\"T_0b30dd10_7622_11ea_a9c2_90b11c8a4599row10_col3\" class=\"data row10 col3\" >0.04</td>\n",
       "                        <td id=\"T_0b30dd10_7622_11ea_a9c2_90b11c8a4599row10_col4\" class=\"data row10 col4\" >-0.02</td>\n",
       "                        <td id=\"T_0b30dd10_7622_11ea_a9c2_90b11c8a4599row10_col5\" class=\"data row10 col5\" >-0.42</td>\n",
       "                        <td id=\"T_0b30dd10_7622_11ea_a9c2_90b11c8a4599row10_col6\" class=\"data row10 col6\" >0.10</td>\n",
       "                        <td id=\"T_0b30dd10_7622_11ea_a9c2_90b11c8a4599row10_col7\" class=\"data row10 col7\" >0.10</td>\n",
       "                        <td id=\"T_0b30dd10_7622_11ea_a9c2_90b11c8a4599row10_col8\" class=\"data row10 col8\" >0.06</td>\n",
       "                        <td id=\"T_0b30dd10_7622_11ea_a9c2_90b11c8a4599row10_col9\" class=\"data row10 col9\" >0.13</td>\n",
       "                        <td id=\"T_0b30dd10_7622_11ea_a9c2_90b11c8a4599row10_col10\" class=\"data row10 col10\" >1.00</td>\n",
       "                        <td id=\"T_0b30dd10_7622_11ea_a9c2_90b11c8a4599row10_col11\" class=\"data row10 col11\" >0.61</td>\n",
       "                        <td id=\"T_0b30dd10_7622_11ea_a9c2_90b11c8a4599row10_col12\" class=\"data row10 col12\" >-0.77</td>\n",
       "                        <td id=\"T_0b30dd10_7622_11ea_a9c2_90b11c8a4599row10_col13\" class=\"data row10 col13\" >0.82</td>\n",
       "                        <td id=\"T_0b30dd10_7622_11ea_a9c2_90b11c8a4599row10_col14\" class=\"data row10 col14\" >-0.29</td>\n",
       "                        <td id=\"T_0b30dd10_7622_11ea_a9c2_90b11c8a4599row10_col15\" class=\"data row10 col15\" >-0.00</td>\n",
       "                        <td id=\"T_0b30dd10_7622_11ea_a9c2_90b11c8a4599row10_col16\" class=\"data row10 col16\" >-0.00</td>\n",
       "            </tr>\n",
       "            <tr>\n",
       "                        <th id=\"T_0b30dd10_7622_11ea_a9c2_90b11c8a4599level0_row11\" class=\"row_heading level0 row11\" >HUMI</th>\n",
       "                        <td id=\"T_0b30dd10_7622_11ea_a9c2_90b11c8a4599row11_col0\" class=\"data row11 col0\" >0.02</td>\n",
       "                        <td id=\"T_0b30dd10_7622_11ea_a9c2_90b11c8a4599row11_col1\" class=\"data row11 col1\" >-0.02</td>\n",
       "                        <td id=\"T_0b30dd10_7622_11ea_a9c2_90b11c8a4599row11_col2\" class=\"data row11 col2\" >0.22</td>\n",
       "                        <td id=\"T_0b30dd10_7622_11ea_a9c2_90b11c8a4599row11_col3\" class=\"data row11 col3\" >0.04</td>\n",
       "                        <td id=\"T_0b30dd10_7622_11ea_a9c2_90b11c8a4599row11_col4\" class=\"data row11 col4\" >-0.26</td>\n",
       "                        <td id=\"T_0b30dd10_7622_11ea_a9c2_90b11c8a4599row11_col5\" class=\"data row11 col5\" >0.03</td>\n",
       "                        <td id=\"T_0b30dd10_7622_11ea_a9c2_90b11c8a4599row11_col6\" class=\"data row11 col6\" >0.38</td>\n",
       "                        <td id=\"T_0b30dd10_7622_11ea_a9c2_90b11c8a4599row11_col7\" class=\"data row11 col7\" >0.39</td>\n",
       "                        <td id=\"T_0b30dd10_7622_11ea_a9c2_90b11c8a4599row11_col8\" class=\"data row11 col8\" >0.38</td>\n",
       "                        <td id=\"T_0b30dd10_7622_11ea_a9c2_90b11c8a4599row11_col9\" class=\"data row11 col9\" >0.42</td>\n",
       "                        <td id=\"T_0b30dd10_7622_11ea_a9c2_90b11c8a4599row11_col10\" class=\"data row11 col10\" >0.61</td>\n",
       "                        <td id=\"T_0b30dd10_7622_11ea_a9c2_90b11c8a4599row11_col11\" class=\"data row11 col11\" >1.00</td>\n",
       "                        <td id=\"T_0b30dd10_7622_11ea_a9c2_90b11c8a4599row11_col12\" class=\"data row11 col12\" >-0.23</td>\n",
       "                        <td id=\"T_0b30dd10_7622_11ea_a9c2_90b11c8a4599row11_col13\" class=\"data row11 col13\" >0.07</td>\n",
       "                        <td id=\"T_0b30dd10_7622_11ea_a9c2_90b11c8a4599row11_col14\" class=\"data row11 col14\" >-0.31</td>\n",
       "                        <td id=\"T_0b30dd10_7622_11ea_a9c2_90b11c8a4599row11_col15\" class=\"data row11 col15\" >0.10</td>\n",
       "                        <td id=\"T_0b30dd10_7622_11ea_a9c2_90b11c8a4599row11_col16\" class=\"data row11 col16\" >0.12</td>\n",
       "            </tr>\n",
       "            <tr>\n",
       "                        <th id=\"T_0b30dd10_7622_11ea_a9c2_90b11c8a4599level0_row12\" class=\"row_heading level0 row12\" >PRES</th>\n",
       "                        <td id=\"T_0b30dd10_7622_11ea_a9c2_90b11c8a4599row12_col0\" class=\"data row12 col0\" >-0.01</td>\n",
       "                        <td id=\"T_0b30dd10_7622_11ea_a9c2_90b11c8a4599row12_col1\" class=\"data row12 col1\" >-0.01</td>\n",
       "                        <td id=\"T_0b30dd10_7622_11ea_a9c2_90b11c8a4599row12_col2\" class=\"data row12 col2\" >-0.05</td>\n",
       "                        <td id=\"T_0b30dd10_7622_11ea_a9c2_90b11c8a4599row12_col3\" class=\"data row12 col3\" >-0.00</td>\n",
       "                        <td id=\"T_0b30dd10_7622_11ea_a9c2_90b11c8a4599row12_col4\" class=\"data row12 col4\" >-0.04</td>\n",
       "                        <td id=\"T_0b30dd10_7622_11ea_a9c2_90b11c8a4599row12_col5\" class=\"data row12 col5\" >0.57</td>\n",
       "                        <td id=\"T_0b30dd10_7622_11ea_a9c2_90b11c8a4599row12_col6\" class=\"data row12 col6\" >0.03</td>\n",
       "                        <td id=\"T_0b30dd10_7622_11ea_a9c2_90b11c8a4599row12_col7\" class=\"data row12 col7\" >0.04</td>\n",
       "                        <td id=\"T_0b30dd10_7622_11ea_a9c2_90b11c8a4599row12_col8\" class=\"data row12 col8\" >0.07</td>\n",
       "                        <td id=\"T_0b30dd10_7622_11ea_a9c2_90b11c8a4599row12_col9\" class=\"data row12 col9\" >-0.02</td>\n",
       "                        <td id=\"T_0b30dd10_7622_11ea_a9c2_90b11c8a4599row12_col10\" class=\"data row12 col10\" >-0.77</td>\n",
       "                        <td id=\"T_0b30dd10_7622_11ea_a9c2_90b11c8a4599row12_col11\" class=\"data row12 col11\" >-0.23</td>\n",
       "                        <td id=\"T_0b30dd10_7622_11ea_a9c2_90b11c8a4599row12_col12\" class=\"data row12 col12\" >1.00</td>\n",
       "                        <td id=\"T_0b30dd10_7622_11ea_a9c2_90b11c8a4599row12_col13\" class=\"data row12 col13\" >-0.82</td>\n",
       "                        <td id=\"T_0b30dd10_7622_11ea_a9c2_90b11c8a4599row12_col14\" class=\"data row12 col14\" >0.17</td>\n",
       "                        <td id=\"T_0b30dd10_7622_11ea_a9c2_90b11c8a4599row12_col15\" class=\"data row12 col15\" >-0.06</td>\n",
       "                        <td id=\"T_0b30dd10_7622_11ea_a9c2_90b11c8a4599row12_col16\" class=\"data row12 col16\" >-0.07</td>\n",
       "            </tr>\n",
       "            <tr>\n",
       "                        <th id=\"T_0b30dd10_7622_11ea_a9c2_90b11c8a4599level0_row13\" class=\"row_heading level0 row13\" >TEMP</th>\n",
       "                        <td id=\"T_0b30dd10_7622_11ea_a9c2_90b11c8a4599row13_col0\" class=\"data row13 col0\" >0.07</td>\n",
       "                        <td id=\"T_0b30dd10_7622_11ea_a9c2_90b11c8a4599row13_col1\" class=\"data row13 col1\" >0.05</td>\n",
       "                        <td id=\"T_0b30dd10_7622_11ea_a9c2_90b11c8a4599row13_col2\" class=\"data row13 col2\" >0.16</td>\n",
       "                        <td id=\"T_0b30dd10_7622_11ea_a9c2_90b11c8a4599row13_col3\" class=\"data row13 col3\" >0.02</td>\n",
       "                        <td id=\"T_0b30dd10_7622_11ea_a9c2_90b11c8a4599row13_col4\" class=\"data row13 col4\" >0.15</td>\n",
       "                        <td id=\"T_0b30dd10_7622_11ea_a9c2_90b11c8a4599row13_col5\" class=\"data row13 col5\" >-0.57</td>\n",
       "                        <td id=\"T_0b30dd10_7622_11ea_a9c2_90b11c8a4599row13_col6\" class=\"data row13 col6\" >-0.17</td>\n",
       "                        <td id=\"T_0b30dd10_7622_11ea_a9c2_90b11c8a4599row13_col7\" class=\"data row13 col7\" >-0.18</td>\n",
       "                        <td id=\"T_0b30dd10_7622_11ea_a9c2_90b11c8a4599row13_col8\" class=\"data row13 col8\" >-0.21</td>\n",
       "                        <td id=\"T_0b30dd10_7622_11ea_a9c2_90b11c8a4599row13_col9\" class=\"data row13 col9\" >-0.13</td>\n",
       "                        <td id=\"T_0b30dd10_7622_11ea_a9c2_90b11c8a4599row13_col10\" class=\"data row13 col10\" >0.82</td>\n",
       "                        <td id=\"T_0b30dd10_7622_11ea_a9c2_90b11c8a4599row13_col11\" class=\"data row13 col11\" >0.07</td>\n",
       "                        <td id=\"T_0b30dd10_7622_11ea_a9c2_90b11c8a4599row13_col12\" class=\"data row13 col12\" >-0.82</td>\n",
       "                        <td id=\"T_0b30dd10_7622_11ea_a9c2_90b11c8a4599row13_col13\" class=\"data row13 col13\" >1.00</td>\n",
       "                        <td id=\"T_0b30dd10_7622_11ea_a9c2_90b11c8a4599row13_col14\" class=\"data row13 col14\" >-0.14</td>\n",
       "                        <td id=\"T_0b30dd10_7622_11ea_a9c2_90b11c8a4599row13_col15\" class=\"data row13 col15\" >-0.00</td>\n",
       "                        <td id=\"T_0b30dd10_7622_11ea_a9c2_90b11c8a4599row13_col16\" class=\"data row13 col16\" >-0.00</td>\n",
       "            </tr>\n",
       "            <tr>\n",
       "                        <th id=\"T_0b30dd10_7622_11ea_a9c2_90b11c8a4599level0_row14\" class=\"row_heading level0 row14\" >Iws</th>\n",
       "                        <td id=\"T_0b30dd10_7622_11ea_a9c2_90b11c8a4599row14_col0\" class=\"data row14 col0\" >-0.06</td>\n",
       "                        <td id=\"T_0b30dd10_7622_11ea_a9c2_90b11c8a4599row14_col1\" class=\"data row14 col1\" >-0.06</td>\n",
       "                        <td id=\"T_0b30dd10_7622_11ea_a9c2_90b11c8a4599row14_col2\" class=\"data row14 col2\" >0.01</td>\n",
       "                        <td id=\"T_0b30dd10_7622_11ea_a9c2_90b11c8a4599row14_col3\" class=\"data row14 col3\" >-0.02</td>\n",
       "                        <td id=\"T_0b30dd10_7622_11ea_a9c2_90b11c8a4599row14_col4\" class=\"data row14 col4\" >0.06</td>\n",
       "                        <td id=\"T_0b30dd10_7622_11ea_a9c2_90b11c8a4599row14_col5\" class=\"data row14 col5\" >0.04</td>\n",
       "                        <td id=\"T_0b30dd10_7622_11ea_a9c2_90b11c8a4599row14_col6\" class=\"data row14 col6\" >-0.22</td>\n",
       "                        <td id=\"T_0b30dd10_7622_11ea_a9c2_90b11c8a4599row14_col7\" class=\"data row14 col7\" >-0.23</td>\n",
       "                        <td id=\"T_0b30dd10_7622_11ea_a9c2_90b11c8a4599row14_col8\" class=\"data row14 col8\" >-0.22</td>\n",
       "                        <td id=\"T_0b30dd10_7622_11ea_a9c2_90b11c8a4599row14_col9\" class=\"data row14 col9\" >-0.24</td>\n",
       "                        <td id=\"T_0b30dd10_7622_11ea_a9c2_90b11c8a4599row14_col10\" class=\"data row14 col10\" >-0.29</td>\n",
       "                        <td id=\"T_0b30dd10_7622_11ea_a9c2_90b11c8a4599row14_col11\" class=\"data row14 col11\" >-0.31</td>\n",
       "                        <td id=\"T_0b30dd10_7622_11ea_a9c2_90b11c8a4599row14_col12\" class=\"data row14 col12\" >0.17</td>\n",
       "                        <td id=\"T_0b30dd10_7622_11ea_a9c2_90b11c8a4599row14_col13\" class=\"data row14 col13\" >-0.14</td>\n",
       "                        <td id=\"T_0b30dd10_7622_11ea_a9c2_90b11c8a4599row14_col14\" class=\"data row14 col14\" >1.00</td>\n",
       "                        <td id=\"T_0b30dd10_7622_11ea_a9c2_90b11c8a4599row14_col15\" class=\"data row14 col15\" >-0.00</td>\n",
       "                        <td id=\"T_0b30dd10_7622_11ea_a9c2_90b11c8a4599row14_col16\" class=\"data row14 col16\" >-0.00</td>\n",
       "            </tr>\n",
       "            <tr>\n",
       "                        <th id=\"T_0b30dd10_7622_11ea_a9c2_90b11c8a4599level0_row15\" class=\"row_heading level0 row15\" >precipitation</th>\n",
       "                        <td id=\"T_0b30dd10_7622_11ea_a9c2_90b11c8a4599row15_col0\" class=\"data row15 col0\" >0.01</td>\n",
       "                        <td id=\"T_0b30dd10_7622_11ea_a9c2_90b11c8a4599row15_col1\" class=\"data row15 col1\" >0.01</td>\n",
       "                        <td id=\"T_0b30dd10_7622_11ea_a9c2_90b11c8a4599row15_col2\" class=\"data row15 col2\" >0.01</td>\n",
       "                        <td id=\"T_0b30dd10_7622_11ea_a9c2_90b11c8a4599row15_col3\" class=\"data row15 col3\" >-0.00</td>\n",
       "                        <td id=\"T_0b30dd10_7622_11ea_a9c2_90b11c8a4599row15_col4\" class=\"data row15 col4\" >0.00</td>\n",
       "                        <td id=\"T_0b30dd10_7622_11ea_a9c2_90b11c8a4599row15_col5\" class=\"data row15 col5\" >0.00</td>\n",
       "                        <td id=\"T_0b30dd10_7622_11ea_a9c2_90b11c8a4599row15_col6\" class=\"data row15 col6\" >-0.01</td>\n",
       "                        <td id=\"T_0b30dd10_7622_11ea_a9c2_90b11c8a4599row15_col7\" class=\"data row15 col7\" >-0.03</td>\n",
       "                        <td id=\"T_0b30dd10_7622_11ea_a9c2_90b11c8a4599row15_col8\" class=\"data row15 col8\" >-0.01</td>\n",
       "                        <td id=\"T_0b30dd10_7622_11ea_a9c2_90b11c8a4599row15_col9\" class=\"data row15 col9\" >-0.00</td>\n",
       "                        <td id=\"T_0b30dd10_7622_11ea_a9c2_90b11c8a4599row15_col10\" class=\"data row15 col10\" >-0.00</td>\n",
       "                        <td id=\"T_0b30dd10_7622_11ea_a9c2_90b11c8a4599row15_col11\" class=\"data row15 col11\" >0.10</td>\n",
       "                        <td id=\"T_0b30dd10_7622_11ea_a9c2_90b11c8a4599row15_col12\" class=\"data row15 col12\" >-0.06</td>\n",
       "                        <td id=\"T_0b30dd10_7622_11ea_a9c2_90b11c8a4599row15_col13\" class=\"data row15 col13\" >-0.00</td>\n",
       "                        <td id=\"T_0b30dd10_7622_11ea_a9c2_90b11c8a4599row15_col14\" class=\"data row15 col14\" >-0.00</td>\n",
       "                        <td id=\"T_0b30dd10_7622_11ea_a9c2_90b11c8a4599row15_col15\" class=\"data row15 col15\" >1.00</td>\n",
       "                        <td id=\"T_0b30dd10_7622_11ea_a9c2_90b11c8a4599row15_col16\" class=\"data row15 col16\" >1.00</td>\n",
       "            </tr>\n",
       "            <tr>\n",
       "                        <th id=\"T_0b30dd10_7622_11ea_a9c2_90b11c8a4599level0_row16\" class=\"row_heading level0 row16\" >Iprec</th>\n",
       "                        <td id=\"T_0b30dd10_7622_11ea_a9c2_90b11c8a4599row16_col0\" class=\"data row16 col0\" >0.01</td>\n",
       "                        <td id=\"T_0b30dd10_7622_11ea_a9c2_90b11c8a4599row16_col1\" class=\"data row16 col1\" >0.01</td>\n",
       "                        <td id=\"T_0b30dd10_7622_11ea_a9c2_90b11c8a4599row16_col2\" class=\"data row16 col2\" >0.01</td>\n",
       "                        <td id=\"T_0b30dd10_7622_11ea_a9c2_90b11c8a4599row16_col3\" class=\"data row16 col3\" >-0.00</td>\n",
       "                        <td id=\"T_0b30dd10_7622_11ea_a9c2_90b11c8a4599row16_col4\" class=\"data row16 col4\" >0.00</td>\n",
       "                        <td id=\"T_0b30dd10_7622_11ea_a9c2_90b11c8a4599row16_col5\" class=\"data row16 col5\" >0.00</td>\n",
       "                        <td id=\"T_0b30dd10_7622_11ea_a9c2_90b11c8a4599row16_col6\" class=\"data row16 col6\" >-0.01</td>\n",
       "                        <td id=\"T_0b30dd10_7622_11ea_a9c2_90b11c8a4599row16_col7\" class=\"data row16 col7\" >-0.05</td>\n",
       "                        <td id=\"T_0b30dd10_7622_11ea_a9c2_90b11c8a4599row16_col8\" class=\"data row16 col8\" >-0.01</td>\n",
       "                        <td id=\"T_0b30dd10_7622_11ea_a9c2_90b11c8a4599row16_col9\" class=\"data row16 col9\" >-0.00</td>\n",
       "                        <td id=\"T_0b30dd10_7622_11ea_a9c2_90b11c8a4599row16_col10\" class=\"data row16 col10\" >-0.00</td>\n",
       "                        <td id=\"T_0b30dd10_7622_11ea_a9c2_90b11c8a4599row16_col11\" class=\"data row16 col11\" >0.12</td>\n",
       "                        <td id=\"T_0b30dd10_7622_11ea_a9c2_90b11c8a4599row16_col12\" class=\"data row16 col12\" >-0.07</td>\n",
       "                        <td id=\"T_0b30dd10_7622_11ea_a9c2_90b11c8a4599row16_col13\" class=\"data row16 col13\" >-0.00</td>\n",
       "                        <td id=\"T_0b30dd10_7622_11ea_a9c2_90b11c8a4599row16_col14\" class=\"data row16 col14\" >-0.00</td>\n",
       "                        <td id=\"T_0b30dd10_7622_11ea_a9c2_90b11c8a4599row16_col15\" class=\"data row16 col15\" >1.00</td>\n",
       "                        <td id=\"T_0b30dd10_7622_11ea_a9c2_90b11c8a4599row16_col16\" class=\"data row16 col16\" >1.00</td>\n",
       "            </tr>\n",
       "    </tbody></table>"
      ],
      "text/plain": [
       "<pandas.io.formats.style.Styler at 0x243c62306d8>"
      ]
     },
     "execution_count": 53,
     "metadata": {},
     "output_type": "execute_result"
    }
   ],
   "source": [
    "import seaborn as sns\n",
    "#cmap = cmap=sns.diverging_palette(5, 250, as_cmap=True)\n",
    "\n",
    "def magnify():\n",
    "    return [dict(selector=\"th\",\n",
    "                 props=[(\"font-size\", \"7pt\")]),\n",
    "            dict(selector=\"td\",\n",
    "                 props=[('padding', \"0em 0em\")]),\n",
    "            dict(selector=\"th:hover\",\n",
    "                 props=[(\"font-size\", \"12pt\")]),\n",
    "            dict(selector=\"tr:hover td:hover\",\n",
    "                 props=[('max-width', '200px'),\n",
    "                        ('font-size', '12pt')])\n",
    "]\n",
    "\n",
    "corr = data.corr()\n",
    "\n",
    "corr.style.set_properties(**{'max-width': '80px', 'font-size': '10pt'})\\\n",
    "    .set_caption(\"Hover to magify\")\\\n",
    "    .set_precision(2)\\\n",
    "    .set_table_styles(magnify())"
   ]
  },
  {
   "cell_type": "markdown",
   "metadata": {},
   "source": [
    "Yeah they have a relationship. So, let's see how many missing values I have in total for all these (DEWP HUMI PRES TEMP) features"
   ]
  },
  {
   "cell_type": "code",
   "execution_count": 54,
   "metadata": {},
   "outputs": [
    {
     "name": "stdout",
     "output_type": "stream",
     "text": [
      "5000  /  52584\n",
      "10000  /  52584\n",
      "15000  /  52584\n",
      "20000  /  52584\n",
      "25000  /  52584\n",
      "30000  /  52584\n",
      "35000  /  52584\n",
      "40000  /  52584\n",
      "45000  /  52584\n",
      "50000  /  52584\n"
     ]
    }
   ],
   "source": [
    "dhpt_cols = ['DEWP', 'HUMI', 'PRES', 'TEMP']\n",
    "any_nan_dhpt_rows_indexes = []\n",
    "\n",
    "for idx, (index, row) in enumerate(data.iterrows()):\n",
    "    if row[dhpt_cols].isnull().any(): #.any()\n",
    "        any_nan_dhpt_rows_indexes.append(index)\n",
    "    \n",
    "    if (idx + 1) % 5000 == 0:\n",
    "        print(idx + 1, ' / ', n_rows)"
   ]
  },
  {
   "cell_type": "code",
   "execution_count": 55,
   "metadata": {},
   "outputs": [
    {
     "name": "stdout",
     "output_type": "stream",
     "text": [
      "Number of any of DEWP HUMI PRES TEMP NaN rows 339\n"
     ]
    }
   ],
   "source": [
    "print('Number of any of DEWP HUMI PRES TEMP NaN rows', len(any_nan_dhpt_rows_indexes))"
   ]
  },
  {
   "cell_type": "markdown",
   "metadata": {},
   "source": [
    "**cbwd**"
   ]
  },
  {
   "cell_type": "markdown",
   "metadata": {},
   "source": [
    "Let's take a look at cbwd"
   ]
  },
  {
   "cell_type": "code",
   "execution_count": 56,
   "metadata": {},
   "outputs": [
    {
     "name": "stdout",
     "output_type": "stream",
     "text": [
      "5000  /  52584\n",
      "10000  /  52584\n",
      "15000  /  52584\n",
      "20000  /  52584\n",
      "25000  /  52584\n",
      "30000  /  52584\n",
      "35000  /  52584\n",
      "40000  /  52584\n",
      "45000  /  52584\n",
      "50000  /  52584\n"
     ]
    }
   ],
   "source": [
    "cbwd_rows_indexes = []\n",
    "\n",
    "for idx, (index, row) in enumerate(data.iterrows()):\n",
    "    if pd.isnull(row['cbwd']):\n",
    "        cbwd_rows_indexes.append(index)\n",
    "    \n",
    "    if (idx + 1) % 5000 == 0:\n",
    "        print(idx + 1, ' / ', n_rows)"
   ]
  },
  {
   "cell_type": "code",
   "execution_count": 57,
   "metadata": {},
   "outputs": [
    {
     "name": "stdout",
     "output_type": "stream",
     "text": [
      "Number of cbwd NaN rows 5\n"
     ]
    }
   ],
   "source": [
    "print('Number of cbwd NaN rows', len(cbwd_rows_indexes))"
   ]
  },
  {
   "cell_type": "markdown",
   "metadata": {},
   "source": [
    "**Iws**"
   ]
  },
  {
   "cell_type": "markdown",
   "metadata": {},
   "source": [
    "Let's take a look at Iws"
   ]
  },
  {
   "cell_type": "code",
   "execution_count": 58,
   "metadata": {},
   "outputs": [
    {
     "name": "stdout",
     "output_type": "stream",
     "text": [
      "5000  /  52584\n",
      "10000  /  52584\n",
      "15000  /  52584\n",
      "20000  /  52584\n",
      "25000  /  52584\n",
      "30000  /  52584\n",
      "35000  /  52584\n",
      "40000  /  52584\n",
      "45000  /  52584\n",
      "50000  /  52584\n"
     ]
    }
   ],
   "source": [
    "Iws_rows_indexes = []\n",
    "\n",
    "for idx, (index, row) in enumerate(data.iterrows()):\n",
    "    if pd.isnull(row['Iws']):\n",
    "        Iws_rows_indexes.append(index)\n",
    "    \n",
    "    if (idx + 1) % 5000 == 0:\n",
    "        print(idx + 1, ' / ', n_rows)"
   ]
  },
  {
   "cell_type": "code",
   "execution_count": 59,
   "metadata": {},
   "outputs": [
    {
     "name": "stdout",
     "output_type": "stream",
     "text": [
      "Number of Iws NaN rows 5\n"
     ]
    }
   ],
   "source": [
    "print('Number of Iws NaN rows', len(Iws_rows_indexes))"
   ]
  },
  {
   "cell_type": "markdown",
   "metadata": {},
   "source": [
    "**precipitation**"
   ]
  },
  {
   "cell_type": "code",
   "execution_count": 60,
   "metadata": {},
   "outputs": [
    {
     "name": "stdout",
     "output_type": "stream",
     "text": [
      "5000  /  52584\n",
      "10000  /  52584\n",
      "15000  /  52584\n",
      "20000  /  52584\n",
      "25000  /  52584\n",
      "30000  /  52584\n",
      "35000  /  52584\n",
      "40000  /  52584\n",
      "45000  /  52584\n",
      "50000  /  52584\n"
     ]
    }
   ],
   "source": [
    "precipitation_rows_indexes = []\n",
    "\n",
    "for idx, (index, row) in enumerate(data.iterrows()):\n",
    "    if pd.isnull(row['precipitation']):\n",
    "        precipitation_rows_indexes.append(index)\n",
    "    \n",
    "    if (idx + 1) % 5000 == 0:\n",
    "        print(idx + 1, ' / ', n_rows)"
   ]
  },
  {
   "cell_type": "code",
   "execution_count": 61,
   "metadata": {},
   "outputs": [
    {
     "name": "stdout",
     "output_type": "stream",
     "text": [
      "Number of precipitation NaN rows 484\n"
     ]
    }
   ],
   "source": [
    "print('Number of precipitation NaN rows', len(precipitation_rows_indexes))"
   ]
  },
  {
   "cell_type": "markdown",
   "metadata": {},
   "source": [
    "**Iprec**"
   ]
  },
  {
   "cell_type": "code",
   "execution_count": 62,
   "metadata": {},
   "outputs": [
    {
     "name": "stdout",
     "output_type": "stream",
     "text": [
      "5000  /  52584\n",
      "10000  /  52584\n",
      "15000  /  52584\n",
      "20000  /  52584\n",
      "25000  /  52584\n",
      "30000  /  52584\n",
      "35000  /  52584\n",
      "40000  /  52584\n",
      "45000  /  52584\n",
      "50000  /  52584\n"
     ]
    }
   ],
   "source": [
    "Iprec_rows_indexes = []\n",
    "\n",
    "for idx, (index, row) in enumerate(data.iterrows()):\n",
    "    if pd.isnull(row['Iprec']):\n",
    "        Iprec_rows_indexes.append(index)\n",
    "    \n",
    "    if (idx + 1) % 5000 == 0:\n",
    "        print(idx + 1, ' / ', n_rows)"
   ]
  },
  {
   "cell_type": "code",
   "execution_count": 63,
   "metadata": {},
   "outputs": [
    {
     "name": "stdout",
     "output_type": "stream",
     "text": [
      "Number of Iprec NaN rows 484\n"
     ]
    }
   ],
   "source": [
    "print('Number of Iprec NaN rows', len(Iprec_rows_indexes))"
   ]
  },
  {
   "cell_type": "markdown",
   "metadata": {},
   "source": [
    "**Section conclusion:** We have analyzed NaN rows in our dataframe and found indexes of that rows."
   ]
  },
  {
   "cell_type": "markdown",
   "metadata": {},
   "source": [
    "### 2. Data Preparartion"
   ]
  },
  {
   "cell_type": "markdown",
   "metadata": {},
   "source": [
    "So, I will remove rows feature by feature and will keep checking NaN values"
   ]
  },
  {
   "cell_type": "code",
   "execution_count": 64,
   "metadata": {
    "scrolled": true
   },
   "outputs": [
    {
     "name": "stdout",
     "output_type": "stream",
     "text": [
      "5000  /  52584\n",
      "10000  /  52584\n",
      "15000  /  52584\n",
      "20000  /  52584\n",
      "25000  /  52584\n",
      "30000  /  52584\n",
      "35000  /  52584\n",
      "40000  /  52584\n",
      "45000  /  52584\n",
      "50000  /  52584\n",
      "Done\n"
     ]
    }
   ],
   "source": [
    "(n_rows, n_cols) = data.shape\n",
    "dhpt_cols = ['DEWP', 'HUMI', 'PRES', 'TEMP']\n",
    "any_nan_dhpt_rows_indexes = []\n",
    "\n",
    "for idx, (index, row) in enumerate(data.iterrows()):\n",
    "    if row[dhpt_cols].isnull().any(): #.any()\n",
    "        any_nan_dhpt_rows_indexes.append(index)\n",
    "    if (idx + 1) % 5000 == 0:\n",
    "        print(idx + 1, ' / ', n_rows)       \n",
    "print('Done')"
   ]
  },
  {
   "cell_type": "markdown",
   "metadata": {},
   "source": [
    "**Dealing with DEWP HUMI PRES TEMP NaN**\n",
    "\n",
    "So I will remove all rows where we have any of them NaN"
   ]
  },
  {
   "cell_type": "code",
   "execution_count": 65,
   "metadata": {},
   "outputs": [],
   "source": [
    "data = data.drop(any_nan_dhpt_rows_indexes)"
   ]
  },
  {
   "cell_type": "code",
   "execution_count": 66,
   "metadata": {},
   "outputs": [
    {
     "name": "stdout",
     "output_type": "stream",
     "text": [
      "PM_Dongsi\n",
      "PM_Dongsihuan\n",
      "PM_Nongzhanguan\n",
      "PM_US Post\n",
      "precipitation\n",
      "Iprec\n"
     ]
    }
   ],
   "source": [
    "for col in data.columns:\n",
    "    if data[col].isnull().any():\n",
    "        print(col)"
   ]
  },
  {
   "cell_type": "markdown",
   "metadata": {},
   "source": [
    "Oh, cbwd and Iws NaN are gone as well"
   ]
  },
  {
   "cell_type": "code",
   "execution_count": 67,
   "metadata": {},
   "outputs": [
    {
     "data": {
      "text/plain": [
       "(52245, 18)"
      ]
     },
     "execution_count": 67,
     "metadata": {},
     "output_type": "execute_result"
    }
   ],
   "source": [
    "data.shape"
   ]
  },
  {
   "cell_type": "markdown",
   "metadata": {},
   "source": [
    "#### Dealing with precipitation and Iprec NaN"
   ]
  },
  {
   "cell_type": "markdown",
   "metadata": {},
   "source": [
    "This is a feature that had an outlier(s)"
   ]
  },
  {
   "cell_type": "code",
   "execution_count": 68,
   "metadata": {},
   "outputs": [
    {
     "data": {
      "text/plain": [
       "count    51765.000000\n",
       "mean         0.065372\n",
       "std          0.861523\n",
       "min          0.000000\n",
       "25%          0.000000\n",
       "50%          0.000000\n",
       "75%          0.000000\n",
       "max         69.200000\n",
       "Name: precipitation, dtype: float64"
      ]
     },
     "execution_count": 68,
     "metadata": {},
     "output_type": "execute_result"
    }
   ],
   "source": [
    "data['precipitation'].describe()"
   ]
  },
  {
   "cell_type": "code",
   "execution_count": 69,
   "metadata": {},
   "outputs": [
    {
     "data": {
      "image/png": "[encoded data removed]",
      "text/plain": [
       "<Figure size 432x288 with 1 Axes>"
      ]
     },
     "metadata": {
      "needs_background": "light"
     },
     "output_type": "display_data"
    }
   ],
   "source": [
    "data['precipitation'].hist()\n",
    "plt.show()"
   ]
  },
  {
   "cell_type": "markdown",
   "metadata": {},
   "source": [
    "Now it's fine"
   ]
  },
  {
   "cell_type": "code",
   "execution_count": 70,
   "metadata": {},
   "outputs": [
    {
     "data": {
      "text/plain": [
       "count    51765.000000\n",
       "mean         0.327254\n",
       "std          3.908618\n",
       "min          0.000000\n",
       "25%          0.000000\n",
       "50%          0.000000\n",
       "75%          0.000000\n",
       "max        223.000000\n",
       "Name: Iprec, dtype: float64"
      ]
     },
     "execution_count": 70,
     "metadata": {},
     "output_type": "execute_result"
    }
   ],
   "source": [
    "data['Iprec'].describe()"
   ]
  },
  {
   "cell_type": "code",
   "execution_count": 71,
   "metadata": {},
   "outputs": [
    {
     "data": {
      "image/png": "[encoded data removed]",
      "text/plain": [
       "<Figure size 432x288 with 1 Axes>"
      ]
     },
     "metadata": {
      "needs_background": "light"
     },
     "output_type": "display_data"
    }
   ],
   "source": [
    "data['Iprec'].hist()\n",
    "plt.show()"
   ]
  },
  {
   "cell_type": "markdown",
   "metadata": {},
   "source": [
    "Now it's fine as well"
   ]
  },
  {
   "cell_type": "markdown",
   "metadata": {},
   "source": [
    "I decided to use either mean or median to fill Precipitation NaNs "
   ]
  },
  {
   "cell_type": "code",
   "execution_count": 72,
   "metadata": {},
   "outputs": [
    {
     "data": {
      "text/plain": [
       "0.0"
      ]
     },
     "execution_count": 72,
     "metadata": {},
     "output_type": "execute_result"
    }
   ],
   "source": [
    "data['precipitation'].median()"
   ]
  },
  {
   "cell_type": "markdown",
   "metadata": {},
   "source": [
    "mean = 0.065372 \n",
    "\n",
    "median = 0"
   ]
  },
  {
   "cell_type": "markdown",
   "metadata": {},
   "source": [
    "Let's see how many of them is 0 and nonzero values"
   ]
  },
  {
   "cell_type": "code",
   "execution_count": 73,
   "metadata": {},
   "outputs": [
    {
     "name": "stdout",
     "output_type": "stream",
     "text": [
      "5000  /  52584\n",
      "10000  /  52584\n",
      "15000  /  52584\n",
      "20000  /  52584\n",
      "25000  /  52584\n",
      "30000  /  52584\n",
      "35000  /  52584\n",
      "40000  /  52584\n",
      "45000  /  52584\n",
      "50000  /  52584\n"
     ]
    }
   ],
   "source": [
    "zero_v, non_zero_v = 0, 0\n",
    "for idx, (index, row) in enumerate(data.iterrows()):\n",
    "    if not pd.isnull(row['precipitation']):\n",
    "        if row['precipitation'] == 0:\n",
    "            zero_v += 1\n",
    "        else:\n",
    "            non_zero_v += 1\n",
    "    \n",
    "    if (idx + 1) % 5000 == 0:\n",
    "        print(idx + 1, ' / ', n_rows)"
   ]
  },
  {
   "cell_type": "code",
   "execution_count": 74,
   "metadata": {},
   "outputs": [
    {
     "name": "stdout",
     "output_type": "stream",
     "text": [
      "Number of Zero values 49766 Number of Non Zero values 1999 Prop 0.04016798617530041\n"
     ]
    }
   ],
   "source": [
    "print('Number of Zero values', zero_v, 'Number of Non Zero values', non_zero_v, 'Prop', non_zero_v/zero_v)"
   ]
  },
  {
   "cell_type": "markdown",
   "metadata": {},
   "source": [
    "Only 4% are non zero value. So I will use median = 0 to fill NaN"
   ]
  },
  {
   "cell_type": "code",
   "execution_count": 75,
   "metadata": {},
   "outputs": [
    {
     "name": "stdout",
     "output_type": "stream",
     "text": [
      "5000  /  52584\n",
      "10000  /  52584\n",
      "15000  /  52584\n",
      "20000  /  52584\n",
      "25000  /  52584\n",
      "30000  /  52584\n",
      "35000  /  52584\n",
      "40000  /  52584\n",
      "45000  /  52584\n",
      "50000  /  52584\n"
     ]
    }
   ],
   "source": [
    "precipitation_rows_indexes = []\n",
    "\n",
    "for idx, (index, row) in enumerate(data.iterrows()):\n",
    "    if pd.isnull(row['precipitation']):\n",
    "        precipitation_rows_indexes.append(index)\n",
    "    \n",
    "    if (idx + 1) % 5000 == 0:\n",
    "        print(idx + 1, ' / ', n_rows)"
   ]
  },
  {
   "cell_type": "code",
   "execution_count": 76,
   "metadata": {},
   "outputs": [
    {
     "name": "stderr",
     "output_type": "stream",
     "text": [
      "C:\\Anaconda3\\envs\\pm25\\lib\\site-packages\\ipykernel_launcher.py:3: SettingWithCopyWarning: \n",
      "A value is trying to be set on a copy of a slice from a DataFrame\n",
      "\n",
      "See the caveats in the documentation: https://pandas.pydata.org/pandas-docs/stable/user_guide/indexing.html#returning-a-view-versus-a-copy\n",
      "  This is separate from the ipykernel package so we can avoid doing imports until\n"
     ]
    }
   ],
   "source": [
    "for nan_index in precipitation_rows_indexes:\n",
    "    try:\n",
    "        data['precipitation'][nan_index] = 0\n",
    "    except:\n",
    "        print('Index not available now', nan_index)"
   ]
  },
  {
   "cell_type": "code",
   "execution_count": 77,
   "metadata": {},
   "outputs": [
    {
     "name": "stdout",
     "output_type": "stream",
     "text": [
      "PM_Dongsi\n",
      "PM_Dongsihuan\n",
      "PM_Nongzhanguan\n",
      "PM_US Post\n",
      "Iprec\n"
     ]
    }
   ],
   "source": [
    "for col in data.columns:\n",
    "    if data[col].isnull().any():\n",
    "        print(col)"
   ]
  },
  {
   "cell_type": "markdown",
   "metadata": {},
   "source": [
    "Now, time to Iprec"
   ]
  },
  {
   "cell_type": "code",
   "execution_count": 78,
   "metadata": {},
   "outputs": [
    {
     "data": {
      "text/plain": [
       "count    51765.000000\n",
       "mean         0.327254\n",
       "std          3.908618\n",
       "min          0.000000\n",
       "25%          0.000000\n",
       "50%          0.000000\n",
       "75%          0.000000\n",
       "max        223.000000\n",
       "Name: Iprec, dtype: float64"
      ]
     },
     "execution_count": 78,
     "metadata": {},
     "output_type": "execute_result"
    }
   ],
   "source": [
    "data['Iprec'].describe()"
   ]
  },
  {
   "cell_type": "code",
   "execution_count": 79,
   "metadata": {},
   "outputs": [
    {
     "data": {
      "text/plain": [
       "0.0"
      ]
     },
     "execution_count": 79,
     "metadata": {},
     "output_type": "execute_result"
    }
   ],
   "source": [
    "data['Iprec'].median()"
   ]
  },
  {
   "cell_type": "code",
   "execution_count": 80,
   "metadata": {},
   "outputs": [
    {
     "name": "stdout",
     "output_type": "stream",
     "text": [
      "5000  /  52584\n",
      "10000  /  52584\n",
      "15000  /  52584\n",
      "20000  /  52584\n",
      "25000  /  52584\n",
      "30000  /  52584\n",
      "35000  /  52584\n",
      "40000  /  52584\n",
      "45000  /  52584\n",
      "50000  /  52584\n"
     ]
    }
   ],
   "source": [
    "zero_v, non_zero_v = 0, 0\n",
    "for idx, (index, row) in enumerate(data.iterrows()):\n",
    "    if not pd.isnull(row['Iprec']):\n",
    "        if row['Iprec'] == 0:\n",
    "            zero_v += 1\n",
    "        else:\n",
    "            non_zero_v += 1\n",
    "    \n",
    "    if (idx + 1) % 5000 == 0:\n",
    "        print(idx + 1, ' / ', n_rows)"
   ]
  },
  {
   "cell_type": "code",
   "execution_count": 81,
   "metadata": {},
   "outputs": [
    {
     "name": "stdout",
     "output_type": "stream",
     "text": [
      "Number of Zero values 49766 Number of Non Zero values 1999 Prop 0.04016798617530041\n"
     ]
    }
   ],
   "source": [
    "print('Number of Zero values', zero_v, 'Number of Non Zero values', non_zero_v, 'Prop', non_zero_v/zero_v)"
   ]
  },
  {
   "cell_type": "markdown",
   "metadata": {},
   "source": [
    "I suess same goes here. I will set median = 0 for Nan values"
   ]
  },
  {
   "cell_type": "code",
   "execution_count": 82,
   "metadata": {},
   "outputs": [
    {
     "name": "stdout",
     "output_type": "stream",
     "text": [
      "5000  /  52584\n",
      "10000  /  52584\n",
      "15000  /  52584\n",
      "20000  /  52584\n",
      "25000  /  52584\n",
      "30000  /  52584\n",
      "35000  /  52584\n",
      "40000  /  52584\n",
      "45000  /  52584\n",
      "50000  /  52584\n"
     ]
    }
   ],
   "source": [
    "Iprec_rows_indexes = []\n",
    "\n",
    "for idx, (index, row) in enumerate(data.iterrows()):\n",
    "    if pd.isnull(row['Iprec']):\n",
    "        Iprec_rows_indexes.append(index)\n",
    "    \n",
    "    if (idx + 1) % 5000 == 0:\n",
    "        print(idx + 1, ' / ', n_rows)"
   ]
  },
  {
   "cell_type": "code",
   "execution_count": 83,
   "metadata": {},
   "outputs": [
    {
     "name": "stderr",
     "output_type": "stream",
     "text": [
      "C:\\Anaconda3\\envs\\pm25\\lib\\site-packages\\ipykernel_launcher.py:3: SettingWithCopyWarning: \n",
      "A value is trying to be set on a copy of a slice from a DataFrame\n",
      "\n",
      "See the caveats in the documentation: https://pandas.pydata.org/pandas-docs/stable/user_guide/indexing.html#returning-a-view-versus-a-copy\n",
      "  This is separate from the ipykernel package so we can avoid doing imports until\n"
     ]
    }
   ],
   "source": [
    "for nan_index in Iprec_rows_indexes:\n",
    "    try:\n",
    "        data['Iprec'][nan_index] = 0\n",
    "    except:\n",
    "        print('Index not available now', nan_index)"
   ]
  },
  {
   "cell_type": "code",
   "execution_count": 84,
   "metadata": {},
   "outputs": [
    {
     "name": "stdout",
     "output_type": "stream",
     "text": [
      "PM_Dongsi\n",
      "PM_Dongsihuan\n",
      "PM_Nongzhanguan\n",
      "PM_US Post\n"
     ]
    }
   ],
   "source": [
    "for col in data.columns:\n",
    "    if data[col].isnull().any():\n",
    "        print(col)"
   ]
  },
  {
   "cell_type": "markdown",
   "metadata": {},
   "source": [
    "#### Dealing with PM like NaN values"
   ]
  },
  {
   "cell_type": "code",
   "execution_count": 85,
   "metadata": {},
   "outputs": [],
   "source": [
    "def get_pm_columns(data_frame):\n",
    "    cols = list(data_frame.columns)\n",
    "    pm_cols = []\n",
    "    for col in cols:\n",
    "        if col.startswith('PM'):\n",
    "            pm_cols.append(col)\n",
    "    return pm_cols \n",
    "\n",
    "def get_main_features_columns(data_frame):\n",
    "    cols = list(data_frame.columns)\n",
    "    features_cols = []\n",
    "    for col in cols:\n",
    "        if not col.startswith('PM'):\n",
    "            features_cols.append(col)\n",
    "    return features_cols"
   ]
  },
  {
   "cell_type": "code",
   "execution_count": 99,
   "metadata": {},
   "outputs": [],
   "source": [
    "pm_cols = get_pm_columns(data)\n",
    "features_columns = get_main_features_columns(data)\n",
    "#features_columns.append('PM')"
   ]
  },
  {
   "cell_type": "code",
   "execution_count": 100,
   "metadata": {
    "scrolled": true
   },
   "outputs": [
    {
     "data": {
      "text/plain": [
       "['No',\n",
       " 'year',\n",
       " 'month',\n",
       " 'day',\n",
       " 'hour',\n",
       " 'season',\n",
       " 'DEWP',\n",
       " 'HUMI',\n",
       " 'PRES',\n",
       " 'TEMP',\n",
       " 'cbwd',\n",
       " 'Iws',\n",
       " 'precipitation',\n",
       " 'Iprec']"
      ]
     },
     "execution_count": 100,
     "metadata": {},
     "output_type": "execute_result"
    }
   ],
   "source": [
    "features_columns"
   ]
  },
  {
   "cell_type": "code",
   "execution_count": 88,
   "metadata": {
    "scrolled": true
   },
   "outputs": [
    {
     "data": {
      "text/plain": [
       "\"\\nno_index = 1\\nnew_data_rows_list = []\\nfor idx, (index, row) in enumerate(data.iterrows()):\\n    for pm_col in pm_cols:\\n        if not math.isnan(row[pm_col]):\\n            temp_row = row[features_columns]\\n            temp_row['PM'] = row[pm_col]\\n            temp_row['No'] = no_index\\n            no_index += 1\\n            \\n            new_data_rows_list.append(temp_row)\\n\\n    if idx % 1000 ==0 and idx != 0:\\n        print(idx)\\n\""
      ]
     },
     "execution_count": 88,
     "metadata": {},
     "output_type": "execute_result"
    }
   ],
   "source": [
    "\"\"\"\n",
    "no_index = 1\n",
    "new_data_rows_list = []\n",
    "for idx, (index, row) in enumerate(data.iterrows()):\n",
    "    for pm_col in pm_cols:\n",
    "        if not math.isnan(row[pm_col]):\n",
    "            temp_row = row[features_columns]\n",
    "            temp_row['PM'] = row[pm_col]\n",
    "            temp_row['No'] = no_index\n",
    "            no_index += 1\n",
    "            \n",
    "            new_data_rows_list.append(temp_row)\n",
    "\n",
    "    if idx % 1000 ==0 and idx != 0:\n",
    "        print(idx)\n",
    "\"\"\""
   ]
  },
  {
   "cell_type": "code",
   "execution_count": 98,
   "metadata": {},
   "outputs": [
    {
     "data": {
      "text/plain": [
       "['PM_Dongsi', 'PM_Dongsihuan', 'PM_Nongzhanguan', 'PM_US Post']"
      ]
     },
     "execution_count": 98,
     "metadata": {},
     "output_type": "execute_result"
    }
   ],
   "source": [
    "pm_cols"
   ]
  },
  {
   "cell_type": "code",
   "execution_count": 101,
   "metadata": {
    "scrolled": true
   },
   "outputs": [
    {
     "name": "stdout",
     "output_type": "stream",
     "text": [
      "1000\n",
      "2000\n",
      "3000\n",
      "4000\n",
      "5000\n",
      "6000\n",
      "7000\n",
      "8000\n",
      "9000\n",
      "10000\n",
      "11000\n",
      "12000\n",
      "13000\n",
      "14000\n",
      "15000\n",
      "16000\n",
      "17000\n",
      "18000\n",
      "19000\n",
      "20000\n",
      "21000\n",
      "22000\n",
      "23000\n",
      "24000\n",
      "25000\n",
      "26000\n",
      "27000\n",
      "28000\n",
      "29000\n",
      "30000\n",
      "31000\n",
      "32000\n",
      "33000\n",
      "34000\n",
      "35000\n",
      "36000\n",
      "37000\n",
      "38000\n",
      "39000\n",
      "40000\n",
      "41000\n",
      "42000\n",
      "43000\n",
      "44000\n",
      "45000\n",
      "46000\n",
      "47000\n",
      "48000\n",
      "49000\n",
      "50000\n",
      "51000\n",
      "52000\n"
     ]
    }
   ],
   "source": [
    "new_data_rows_list = []\n",
    "for idx, (index, row) in enumerate(data.iterrows()):\n",
    "    mn = row[pm_cols].mean()\n",
    "    if not math.isnan(mn):\n",
    "        temp_row = row[features_columns]\n",
    "        temp_row['PM'] = mn\n",
    "\n",
    "        new_data_rows_list.append(temp_row)\n",
    "\n",
    "    if idx % 1000 ==0 and idx != 0:\n",
    "        print(idx)"
   ]
  },
  {
   "cell_type": "code",
   "execution_count": 102,
   "metadata": {},
   "outputs": [],
   "source": [
    "features_columns.append('PM')\n",
    "new_data = pd.DataFrame(columns = features_columns)\n",
    "new_data = new_data.append(new_data_rows_list, ignore_index=True)"
   ]
  },
  {
   "cell_type": "code",
   "execution_count": 104,
   "metadata": {},
   "outputs": [],
   "source": [
    "file_path = os.path.join(PREP_MAIN_DIR_PATH, 'BeijingPM_cleaned.csv')\n",
    "new_data.to_csv(file_path)"
   ]
  },
  {
   "cell_type": "code",
   "execution_count": 105,
   "metadata": {},
   "outputs": [
    {
     "data": {
      "text/html": [
       "<div>\n",
       "<style scoped>\n",
       "    .dataframe tbody tr th:only-of-type {\n",
       "        vertical-align: middle;\n",
       "    }\n",
       "\n",
       "    .dataframe tbody tr th {\n",
       "        vertical-align: top;\n",
       "    }\n",
       "\n",
       "    .dataframe thead th {\n",
       "        text-align: right;\n",
       "    }\n",
       "</style>\n",
       "<table border=\"1\" class=\"dataframe\">\n",
       "  <thead>\n",
       "    <tr style=\"text-align: right;\">\n",
       "      <th></th>\n",
       "      <th>DEWP</th>\n",
       "      <th>HUMI</th>\n",
       "      <th>PRES</th>\n",
       "      <th>TEMP</th>\n",
       "      <th>Iws</th>\n",
       "      <th>precipitation</th>\n",
       "      <th>Iprec</th>\n",
       "      <th>PM</th>\n",
       "    </tr>\n",
       "  </thead>\n",
       "  <tbody>\n",
       "    <tr>\n",
       "      <th>count</th>\n",
       "      <td>50351.000000</td>\n",
       "      <td>50351.000000</td>\n",
       "      <td>50351.000000</td>\n",
       "      <td>50351.000000</td>\n",
       "      <td>50351.00000</td>\n",
       "      <td>50351.000000</td>\n",
       "      <td>50351.000000</td>\n",
       "      <td>50351.000000</td>\n",
       "    </tr>\n",
       "    <tr>\n",
       "      <th>mean</th>\n",
       "      <td>2.016365</td>\n",
       "      <td>54.536633</td>\n",
       "      <td>1016.462632</td>\n",
       "      <td>12.602153</td>\n",
       "      <td>23.29487</td>\n",
       "      <td>0.065637</td>\n",
       "      <td>0.329259</td>\n",
       "      <td>95.040721</td>\n",
       "    </tr>\n",
       "    <tr>\n",
       "      <th>std</th>\n",
       "      <td>14.262378</td>\n",
       "      <td>26.003974</td>\n",
       "      <td>10.324220</td>\n",
       "      <td>12.102581</td>\n",
       "      <td>49.01261</td>\n",
       "      <td>0.868498</td>\n",
       "      <td>3.949802</td>\n",
       "      <td>90.460745</td>\n",
       "    </tr>\n",
       "    <tr>\n",
       "      <th>min</th>\n",
       "      <td>-40.000000</td>\n",
       "      <td>2.000000</td>\n",
       "      <td>991.000000</td>\n",
       "      <td>-19.000000</td>\n",
       "      <td>0.45000</td>\n",
       "      <td>0.000000</td>\n",
       "      <td>0.000000</td>\n",
       "      <td>1.000000</td>\n",
       "    </tr>\n",
       "    <tr>\n",
       "      <th>25%</th>\n",
       "      <td>-10.000000</td>\n",
       "      <td>31.000000</td>\n",
       "      <td>1008.000000</td>\n",
       "      <td>2.000000</td>\n",
       "      <td>1.79000</td>\n",
       "      <td>0.000000</td>\n",
       "      <td>0.000000</td>\n",
       "      <td>27.000000</td>\n",
       "    </tr>\n",
       "    <tr>\n",
       "      <th>50%</th>\n",
       "      <td>2.000000</td>\n",
       "      <td>55.000000</td>\n",
       "      <td>1016.000000</td>\n",
       "      <td>14.000000</td>\n",
       "      <td>4.92000</td>\n",
       "      <td>0.000000</td>\n",
       "      <td>0.000000</td>\n",
       "      <td>69.000000</td>\n",
       "    </tr>\n",
       "    <tr>\n",
       "      <th>75%</th>\n",
       "      <td>15.000000</td>\n",
       "      <td>78.000000</td>\n",
       "      <td>1025.000000</td>\n",
       "      <td>23.000000</td>\n",
       "      <td>21.46000</td>\n",
       "      <td>0.000000</td>\n",
       "      <td>0.000000</td>\n",
       "      <td>132.000000</td>\n",
       "    </tr>\n",
       "    <tr>\n",
       "      <th>max</th>\n",
       "      <td>28.000000</td>\n",
       "      <td>100.000000</td>\n",
       "      <td>1046.000000</td>\n",
       "      <td>42.000000</td>\n",
       "      <td>559.68000</td>\n",
       "      <td>69.200000</td>\n",
       "      <td>223.000000</td>\n",
       "      <td>994.000000</td>\n",
       "    </tr>\n",
       "  </tbody>\n",
       "</table>\n",
       "</div>"
      ],
      "text/plain": [
       "               DEWP          HUMI          PRES          TEMP          Iws  \\\n",
       "count  50351.000000  50351.000000  50351.000000  50351.000000  50351.00000   \n",
       "mean       2.016365     54.536633   1016.462632     12.602153     23.29487   \n",
       "std       14.262378     26.003974     10.324220     12.102581     49.01261   \n",
       "min      -40.000000      2.000000    991.000000    -19.000000      0.45000   \n",
       "25%      -10.000000     31.000000   1008.000000      2.000000      1.79000   \n",
       "50%        2.000000     55.000000   1016.000000     14.000000      4.92000   \n",
       "75%       15.000000     78.000000   1025.000000     23.000000     21.46000   \n",
       "max       28.000000    100.000000   1046.000000     42.000000    559.68000   \n",
       "\n",
       "       precipitation         Iprec            PM  \n",
       "count   50351.000000  50351.000000  50351.000000  \n",
       "mean        0.065637      0.329259     95.040721  \n",
       "std         0.868498      3.949802     90.460745  \n",
       "min         0.000000      0.000000      1.000000  \n",
       "25%         0.000000      0.000000     27.000000  \n",
       "50%         0.000000      0.000000     69.000000  \n",
       "75%         0.000000      0.000000    132.000000  \n",
       "max        69.200000    223.000000    994.000000  "
      ]
     },
     "execution_count": 105,
     "metadata": {},
     "output_type": "execute_result"
    }
   ],
   "source": [
    "new_data.describe()"
   ]
  },
  {
   "cell_type": "code",
   "execution_count": null,
   "metadata": {},
   "outputs": [],
   "source": []
  }
 ],
 "metadata": {
  "kernelspec": {
   "display_name": "Python 3",
   "language": "python",
   "name": "python3"
  }
 },
 "nbformat": 4,
 "nbformat_minor": 2
}
